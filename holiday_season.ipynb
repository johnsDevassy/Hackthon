{
  "nbformat": 4,
  "nbformat_minor": 0,
  "metadata": {
    "accelerator": "GPU",
    "colab": {
      "name": "holiday season.ipynb",
      "provenance": [],
      "collapsed_sections": [
        "sg455ZmZxkD4",
        "EVHRPn_xxou_",
        "5QDdvmqSOrTq",
        "6v-WEdFu3Gt0",
        "oTzl0pECKzz8",
        "iYcS_nSdGBht",
        "3GFQGrVtMgAx",
        "UC1KH0D4NRSV",
        "gLgI6G-i8id8"
      ],
      "toc_visible": true,
      "include_colab_link": true
    },
    "kernelspec": {
      "display_name": "Python 3",
      "name": "python3"
    }
  },
  "cells": [
    {
      "cell_type": "markdown",
      "metadata": {
        "id": "view-in-github",
        "colab_type": "text"
      },
      "source": [
        "<a href=\"https://colab.research.google.com/github/johnsDevassy/Hackthon/blob/master/holiday_season.ipynb\" target=\"_parent\"><img src=\"https://colab.research.google.com/assets/colab-badge.svg\" alt=\"Open In Colab\"/></a>"
      ]
    },
    {
      "cell_type": "markdown",
      "metadata": {
        "id": "sg455ZmZxkD4"
      },
      "source": [
        "#Loading Modules"
      ]
    },
    {
      "cell_type": "code",
      "metadata": {
        "colab": {
          "base_uri": "https://localhost:8080/"
        },
        "id": "sgFOhM3OQn4q",
        "outputId": "0d587643-1181-4802-f4aa-f34fed4f18e2"
      },
      "source": [
        "#!sudo apt-get install imagemagick\n",
        "!pip install imbalanced-learn"
      ],
      "execution_count": 1,
      "outputs": [
        {
          "output_type": "stream",
          "text": [
            "Requirement already satisfied: imbalanced-learn in /usr/local/lib/python3.7/dist-packages (0.4.3)\n",
            "Requirement already satisfied: scipy>=0.13.3 in /usr/local/lib/python3.7/dist-packages (from imbalanced-learn) (1.4.1)\n",
            "Requirement already satisfied: scikit-learn>=0.20 in /usr/local/lib/python3.7/dist-packages (from imbalanced-learn) (0.22.2.post1)\n",
            "Requirement already satisfied: numpy>=1.8.2 in /usr/local/lib/python3.7/dist-packages (from imbalanced-learn) (1.19.5)\n",
            "Requirement already satisfied: joblib>=0.11 in /usr/local/lib/python3.7/dist-packages (from scikit-learn>=0.20->imbalanced-learn) (1.0.1)\n"
          ],
          "name": "stdout"
        }
      ]
    },
    {
      "cell_type": "code",
      "metadata": {
        "colab": {
          "base_uri": "https://localhost:8080/"
        },
        "id": "rDYxWWlViL83",
        "outputId": "86546148-ac02-4df2-bbeb-6b2462d17dac"
      },
      "source": [
        "from zipfile import ZipFile \n",
        "import numpy as np\n",
        "from PIL import Image\n",
        "from os import listdir\n",
        "import matplotlib.pyplot as plt\n",
        "import pandas as pd\n",
        "from sklearn.preprocessing import LabelEncoder\n",
        "import tensorflow as tf\n",
        "from sklearn.model_selection import train_test_split\n",
        "from sklearn.metrics import confusion_matrix, classification_report\n",
        "import imblearn\n",
        "from imblearn.over_sampling import RandomOverSampler\n",
        "from imblearn.under_sampling import RandomUnderSampler "
      ],
      "execution_count": 2,
      "outputs": [
        {
          "output_type": "stream",
          "text": [
            "/usr/local/lib/python3.7/dist-packages/sklearn/externals/six.py:31: FutureWarning: The module is deprecated in version 0.21 and will be removed in version 0.23 since we've dropped support for Python 2.7. Please rely on the official version of six (https://pypi.org/project/six/).\n",
            "  \"(https://pypi.org/project/six/).\", FutureWarning)\n",
            "/usr/local/lib/python3.7/dist-packages/sklearn/utils/deprecation.py:144: FutureWarning: The sklearn.neighbors.base module is  deprecated in version 0.22 and will be removed in version 0.24. The corresponding classes / functions should instead be imported from sklearn.neighbors. Anything that cannot be imported from sklearn.neighbors is now part of the private API.\n",
            "  warnings.warn(message, FutureWarning)\n"
          ],
          "name": "stderr"
        }
      ]
    },
    {
      "cell_type": "markdown",
      "metadata": {
        "id": "EVHRPn_xxou_"
      },
      "source": [
        "#Loading dataset"
      ]
    },
    {
      "cell_type": "code",
      "metadata": {
        "colab": {
          "base_uri": "https://localhost:8080/"
        },
        "id": "PYZJbdZRjoV9",
        "outputId": "fb44c57d-3fa6-49d2-d259-8ee89f7ece4f"
      },
      "source": [
        "from google.colab import drive\n",
        "drive.mount('/content/drive')"
      ],
      "execution_count": 4,
      "outputs": [
        {
          "output_type": "stream",
          "text": [
            "Drive already mounted at /content/drive; to attempt to forcibly remount, call drive.mount(\"/content/drive\", force_remount=True).\n"
          ],
          "name": "stdout"
        }
      ]
    },
    {
      "cell_type": "code",
      "metadata": {
        "id": "Wy80GW95nUg9"
      },
      "source": [
        "zip=ZipFile(\"/content/drive/MyDrive/datasets/14feeca248c811eb.zip\")\n",
        "zip.extractall()"
      ],
      "execution_count": 5,
      "outputs": []
    },
    {
      "cell_type": "markdown",
      "metadata": {
        "id": "kywsOAAGxr3m"
      },
      "source": [
        "converting to numpy arrays"
      ]
    },
    {
      "cell_type": "code",
      "metadata": {
        "id": "wiQiuqhEn1Jo"
      },
      "source": [
        "s=[]\n",
        "for filename in listdir('/content/dataset/train'):\n",
        "  s.append(np.asarray(Image.open('/content/dataset/train/'+filename)))\n"
      ],
      "execution_count": 6,
      "outputs": []
    },
    {
      "cell_type": "code",
      "metadata": {
        "colab": {
          "base_uri": "https://localhost:8080/"
        },
        "id": "oowYP_FUunqf",
        "outputId": "7a51dbcd-3259-47a5-e0e0-e437026fb3a2"
      },
      "source": [
        "s=np.array(s)"
      ],
      "execution_count": 7,
      "outputs": [
        {
          "output_type": "stream",
          "text": [
            "/usr/local/lib/python3.7/dist-packages/ipykernel_launcher.py:1: VisibleDeprecationWarning: Creating an ndarray from ragged nested sequences (which is a list-or-tuple of lists-or-tuples-or ndarrays with different lengths or shapes) is deprecated. If you meant to do this, you must specify 'dtype=object' when creating the ndarray\n",
            "  \"\"\"Entry point for launching an IPython kernel.\n"
          ],
          "name": "stderr"
        }
      ]
    },
    {
      "cell_type": "code",
      "metadata": {
        "id": "OktSpzXtu9IE"
      },
      "source": [
        "#s[3].shape"
      ],
      "execution_count": 8,
      "outputs": []
    },
    {
      "cell_type": "markdown",
      "metadata": {
        "id": "F94p_ge5xjIH"
      },
      "source": [
        "Problems came in to my mind when started to preprocssing\n",
        "\n",
        "\n",
        "*   Different dimensions for every images\n",
        "*   The number of images for classes except misc is very low\n",
        "*   more time is taken to concat the arrays of images when i used numpy array concat\n",
        "\n",
        "Solutions Found\n",
        "\n",
        "*   Manu sir told me 2 approches to overcome the different dimensions problem\n",
        "      *   Try rescaling the images to feasible dimension(But what will be it)\n",
        "      *   You can subdivide the image in tiles, perform prediction on the tiles and stitch them together(Dont know need to find out)\n",
        "* Now number of images for other class can be increased by oversampling.\n",
        "*   First create dataset with list and cnvert into arrays\n",
        "\n",
        "\n"
      ]
    },
    {
      "cell_type": "code",
      "metadata": {
        "colab": {
          "base_uri": "https://localhost:8080/",
          "height": 0
        },
        "id": "EzHJD8Byzri5",
        "outputId": "09565df6-8565-462e-eab1-97bb91ad3099"
      },
      "source": [
        "x=[]\n",
        "y=[]\n",
        "for i in range(s.shape[0]):\n",
        "  x.append(s[i].shape[0])\n",
        "  y.append(s[i].shape[1])\n",
        "plt.figure(figsize=(20,8))\n",
        "plt.hist(x)\n",
        "plt.show()"
      ],
      "execution_count": 9,
      "outputs": [
        {
          "output_type": "display_data",
          "data": {
            "image/png": "[encoded data removed]",
            "text/plain": [
              "<Figure size 1440x576 with 1 Axes>"
            ]
          },
          "metadata": {
            "tags": [],
            "needs_background": "light"
          }
        }
      ]
    },
    {
      "cell_type": "code",
      "metadata": {
        "colab": {
          "base_uri": "https://localhost:8080/",
          "height": 0
        },
        "id": "aHeFNsaYQ-29",
        "outputId": "2128efba-ee27-4489-e610-5a1ff4b53080"
      },
      "source": [
        "img=Image.open('/content/dataset/train/'+'image3476.jpg')\n",
        "img"
      ],
      "execution_count": 10,
      "outputs": [
        {
          "output_type": "execute_result",
          "data": {
            "image/png": "[encoded data removed]",
            "text/plain": [
              "<PIL.JpegImagePlugin.JpegImageFile image mode=RGB size=80x53 at 0x7F62C4829490>"
            ]
          },
          "metadata": {
            "tags": []
          },
          "execution_count": 10
        }
      ]
    },
    {
      "cell_type": "markdown",
      "metadata": {
        "id": "kDoB_f7rfrCx"
      },
      "source": [
        "Seems like the best dimension to load images are 80*80 square. so i choosed it"
      ]
    },
    {
      "cell_type": "code",
      "metadata": {
        "id": "SyNQxkGDhREx"
      },
      "source": [
        "df=pd.read_csv(\"/content/dataset/train.csv\")"
      ],
      "execution_count": 11,
      "outputs": []
    },
    {
      "cell_type": "markdown",
      "metadata": {
        "id": "KJgfZzcv0y8b"
      },
      "source": [
        "i load the dataset that contains the labels of each image"
      ]
    },
    {
      "cell_type": "code",
      "metadata": {
        "colab": {
          "base_uri": "https://localhost:8080/",
          "height": 0
        },
        "id": "Ip_Qqi-bxrwB",
        "outputId": "aecd81cc-dcc9-4bab-f778-1368e8bd3f15"
      },
      "source": [
        "df.head()"
      ],
      "execution_count": 12,
      "outputs": [
        {
          "output_type": "execute_result",
          "data": {
            "text/html": [
              "<div>\n",
              "<style scoped>\n",
              "    .dataframe tbody tr th:only-of-type {\n",
              "        vertical-align: middle;\n",
              "    }\n",
              "\n",
              "    .dataframe tbody tr th {\n",
              "        vertical-align: top;\n",
              "    }\n",
              "\n",
              "    .dataframe thead th {\n",
              "        text-align: right;\n",
              "    }\n",
              "</style>\n",
              "<table border=\"1\" class=\"dataframe\">\n",
              "  <thead>\n",
              "    <tr style=\"text-align: right;\">\n",
              "      <th></th>\n",
              "      <th>Image</th>\n",
              "      <th>Class</th>\n",
              "    </tr>\n",
              "  </thead>\n",
              "  <tbody>\n",
              "    <tr>\n",
              "      <th>0</th>\n",
              "      <td>image3476.jpg</td>\n",
              "      <td>Miscellaneous</td>\n",
              "    </tr>\n",
              "    <tr>\n",
              "      <th>1</th>\n",
              "      <td>image5198.jpg</td>\n",
              "      <td>Candle</td>\n",
              "    </tr>\n",
              "    <tr>\n",
              "      <th>2</th>\n",
              "      <td>image4183.jpg</td>\n",
              "      <td>Snowman</td>\n",
              "    </tr>\n",
              "    <tr>\n",
              "      <th>3</th>\n",
              "      <td>image1806.jpg</td>\n",
              "      <td>Miscellaneous</td>\n",
              "    </tr>\n",
              "    <tr>\n",
              "      <th>4</th>\n",
              "      <td>image7831.jpg</td>\n",
              "      <td>Miscellaneous</td>\n",
              "    </tr>\n",
              "  </tbody>\n",
              "</table>\n",
              "</div>"
            ],
            "text/plain": [
              "           Image          Class\n",
              "0  image3476.jpg  Miscellaneous\n",
              "1  image5198.jpg         Candle\n",
              "2  image4183.jpg        Snowman\n",
              "3  image1806.jpg  Miscellaneous\n",
              "4  image7831.jpg  Miscellaneous"
            ]
          },
          "metadata": {
            "tags": []
          },
          "execution_count": 12
        }
      ]
    },
    {
      "cell_type": "code",
      "metadata": {
        "colab": {
          "base_uri": "https://localhost:8080/"
        },
        "id": "yQSmYn69uuC6",
        "outputId": "50d2be29-4c47-4106-938e-8620f029b871"
      },
      "source": [
        "df['Class'].tail()"
      ],
      "execution_count": 13,
      "outputs": [
        {
          "output_type": "execute_result",
          "data": {
            "text/plain": [
              "6464    Christmas_Tree\n",
              "6465     Miscellaneous\n",
              "6466          Airplane\n",
              "6467            Candle\n",
              "6468          Airplane\n",
              "Name: Class, dtype: object"
            ]
          },
          "metadata": {
            "tags": []
          },
          "execution_count": 13
        }
      ]
    },
    {
      "cell_type": "code",
      "metadata": {
        "colab": {
          "base_uri": "https://localhost:8080/"
        },
        "id": "rOdx5pAh4IE7",
        "outputId": "4d8d6646-93d3-4806-d60c-939a0fd4f78f"
      },
      "source": [
        "df.info()"
      ],
      "execution_count": 14,
      "outputs": [
        {
          "output_type": "stream",
          "text": [
            "<class 'pandas.core.frame.DataFrame'>\n",
            "RangeIndex: 6469 entries, 0 to 6468\n",
            "Data columns (total 2 columns):\n",
            " #   Column  Non-Null Count  Dtype \n",
            "---  ------  --------------  ----- \n",
            " 0   Image   6469 non-null   object\n",
            " 1   Class   6469 non-null   object\n",
            "dtypes: object(2)\n",
            "memory usage: 101.2+ KB\n"
          ],
          "name": "stdout"
        }
      ]
    },
    {
      "cell_type": "markdown",
      "metadata": {
        "id": "xpvt9aSy06a9"
      },
      "source": [
        "Created a new dataframe to load the labels to the NN model"
      ]
    },
    {
      "cell_type": "code",
      "metadata": {
        "id": "5QXwf13snBmm"
      },
      "source": [
        "newnd=pd.DataFrame(columns=['img','classval'])"
      ],
      "execution_count": 15,
      "outputs": []
    },
    {
      "cell_type": "code",
      "metadata": {
        "colab": {
          "base_uri": "https://localhost:8080/"
        },
        "id": "SXDpVtcVy5dH",
        "outputId": "843eddfb-d848-4006-e8ba-1bcf1e83b6f2"
      },
      "source": [
        "df.loc[df['Image']=='image7005.jpg','Class']"
      ],
      "execution_count": 16,
      "outputs": [
        {
          "output_type": "execute_result",
          "data": {
            "text/plain": [
              "1661    Miscellaneous\n",
              "Name: Class, dtype: object"
            ]
          },
          "metadata": {
            "tags": []
          },
          "execution_count": 16
        }
      ]
    },
    {
      "cell_type": "code",
      "metadata": {
        "colab": {
          "base_uri": "https://localhost:8080/",
          "height": 0
        },
        "id": "4Zsy97RX6Y2X",
        "outputId": "75afc645-d185-45a6-80b5-778469077e5a"
      },
      "source": [
        "q=[]\n",
        "size=80,80\n",
        "z=0\n",
        "kl=0\n",
        "for filename in listdir('/content/dataset/train'):\n",
        "  img=Image.open('/content/dataset/train/'+filename)\n",
        "  img=img.convert('RGB')\n",
        "  img=img.resize((200,200))\n",
        "  newnd.loc[len(newnd.index)]=[filename,df.loc[df['Image']==filename,'Class'].values[0]]\n",
        "  if kl<5:\n",
        "    print(filename)\n",
        "  kl+=1\n",
        "\n",
        "  z+=1\n",
        "  if (z==43):\n",
        "    imgq=Image.open('/content/dataset/train/'+filename)\n",
        "    imgq=imgq.resize((200,200))\n",
        "    imgq=np.asarray(img,dtype=np.uint8)\n",
        "  q.append(np.asarray(img,dtype=np.uint8))\n",
        "Image.fromarray(imgq,'RGB')"
      ],
      "execution_count": 17,
      "outputs": [
        {
          "output_type": "stream",
          "text": [
            "image431.jpg\n",
            "image3405.jpg\n",
            "image4900.jpg\n",
            "image1276.jpg\n",
            "image5428.jpg\n"
          ],
          "name": "stdout"
        },
        {
          "output_type": "execute_result",
          "data": {
            "image/png": "[encoded data removed]",
            "text/plain": [
              "<PIL.Image.Image image mode=RGB size=200x200 at 0x7F630C41FB90>"
            ]
          },
          "metadata": {
            "tags": []
          },
          "execution_count": 17
        }
      ]
    },
    {
      "cell_type": "markdown",
      "metadata": {
        "id": "IulVi3UQ1HPG"
      },
      "source": [
        "Now loaded the images and and created a new dataset that contain the image and class in correct order"
      ]
    },
    {
      "cell_type": "code",
      "metadata": {
        "colab": {
          "base_uri": "https://localhost:8080/",
          "height": 0
        },
        "id": "nsuYCWELcYkb",
        "outputId": "803a5eb2-2a20-43a4-c785-57f018350957"
      },
      "source": [
        "newnd.tail()"
      ],
      "execution_count": 18,
      "outputs": [
        {
          "output_type": "execute_result",
          "data": {
            "text/html": [
              "<div>\n",
              "<style scoped>\n",
              "    .dataframe tbody tr th:only-of-type {\n",
              "        vertical-align: middle;\n",
              "    }\n",
              "\n",
              "    .dataframe tbody tr th {\n",
              "        vertical-align: top;\n",
              "    }\n",
              "\n",
              "    .dataframe thead th {\n",
              "        text-align: right;\n",
              "    }\n",
              "</style>\n",
              "<table border=\"1\" class=\"dataframe\">\n",
              "  <thead>\n",
              "    <tr style=\"text-align: right;\">\n",
              "      <th></th>\n",
              "      <th>img</th>\n",
              "      <th>classval</th>\n",
              "    </tr>\n",
              "  </thead>\n",
              "  <tbody>\n",
              "    <tr>\n",
              "      <th>6464</th>\n",
              "      <td>image5127.jpg</td>\n",
              "      <td>Miscellaneous</td>\n",
              "    </tr>\n",
              "    <tr>\n",
              "      <th>6465</th>\n",
              "      <td>image6416.jpg</td>\n",
              "      <td>Miscellaneous</td>\n",
              "    </tr>\n",
              "    <tr>\n",
              "      <th>6466</th>\n",
              "      <td>image5923.jpg</td>\n",
              "      <td>Christmas_Tree</td>\n",
              "    </tr>\n",
              "    <tr>\n",
              "      <th>6467</th>\n",
              "      <td>image114.jpg</td>\n",
              "      <td>Miscellaneous</td>\n",
              "    </tr>\n",
              "    <tr>\n",
              "      <th>6468</th>\n",
              "      <td>image1010.jpg</td>\n",
              "      <td>Miscellaneous</td>\n",
              "    </tr>\n",
              "  </tbody>\n",
              "</table>\n",
              "</div>"
            ],
            "text/plain": [
              "                img        classval\n",
              "6464  image5127.jpg   Miscellaneous\n",
              "6465  image6416.jpg   Miscellaneous\n",
              "6466  image5923.jpg  Christmas_Tree\n",
              "6467   image114.jpg   Miscellaneous\n",
              "6468  image1010.jpg   Miscellaneous"
            ]
          },
          "metadata": {
            "tags": []
          },
          "execution_count": 18
        }
      ]
    },
    {
      "cell_type": "code",
      "metadata": {
        "colab": {
          "base_uri": "https://localhost:8080/",
          "height": 0
        },
        "id": "y6XxBN2d0Yc1",
        "outputId": "89a2d2a9-9dde-4ccf-b5cd-cfcb2583f9b1"
      },
      "source": [
        "newnd.loc[newnd['img']=='image1003.jpg']"
      ],
      "execution_count": 19,
      "outputs": [
        {
          "output_type": "execute_result",
          "data": {
            "text/html": [
              "<div>\n",
              "<style scoped>\n",
              "    .dataframe tbody tr th:only-of-type {\n",
              "        vertical-align: middle;\n",
              "    }\n",
              "\n",
              "    .dataframe tbody tr th {\n",
              "        vertical-align: top;\n",
              "    }\n",
              "\n",
              "    .dataframe thead th {\n",
              "        text-align: right;\n",
              "    }\n",
              "</style>\n",
              "<table border=\"1\" class=\"dataframe\">\n",
              "  <thead>\n",
              "    <tr style=\"text-align: right;\">\n",
              "      <th></th>\n",
              "      <th>img</th>\n",
              "      <th>classval</th>\n",
              "    </tr>\n",
              "  </thead>\n",
              "  <tbody>\n",
              "    <tr>\n",
              "      <th>90</th>\n",
              "      <td>image1003.jpg</td>\n",
              "      <td>Miscellaneous</td>\n",
              "    </tr>\n",
              "  </tbody>\n",
              "</table>\n",
              "</div>"
            ],
            "text/plain": [
              "              img       classval\n",
              "90  image1003.jpg  Miscellaneous"
            ]
          },
          "metadata": {
            "tags": []
          },
          "execution_count": 19
        }
      ]
    },
    {
      "cell_type": "markdown",
      "metadata": {
        "id": "6y9Z4ffc1X7k"
      },
      "source": [
        "Performing the label encoder to convert it to integers"
      ]
    },
    {
      "cell_type": "code",
      "metadata": {
        "colab": {
          "base_uri": "https://localhost:8080/"
        },
        "id": "t8X6NUKSe9iV",
        "outputId": "5c6fa4ae-038d-4fa1-d0e8-5309a43897e5"
      },
      "source": [
        "newnd['classval'].values"
      ],
      "execution_count": 20,
      "outputs": [
        {
          "output_type": "execute_result",
          "data": {
            "text/plain": [
              "array(['Snowman', 'Candle', 'Christmas_Tree', ..., 'Christmas_Tree',\n",
              "       'Miscellaneous', 'Miscellaneous'], dtype=object)"
            ]
          },
          "metadata": {
            "tags": []
          },
          "execution_count": 20
        }
      ]
    },
    {
      "cell_type": "code",
      "metadata": {
        "id": "l1yc35zzuv7q"
      },
      "source": [
        "lbcoder=LabelEncoder()\n",
        "lab=lbcoder.fit_transform(np.asarray(newnd['classval']))"
      ],
      "execution_count": 21,
      "outputs": []
    },
    {
      "cell_type": "code",
      "metadata": {
        "id": "YowOHvirxc-o"
      },
      "source": [
        "newnd['classval']=lab"
      ],
      "execution_count": 22,
      "outputs": []
    },
    {
      "cell_type": "code",
      "metadata": {
        "colab": {
          "base_uri": "https://localhost:8080/",
          "height": 0
        },
        "id": "R97Qzl2CyPrg",
        "outputId": "524dac36-5b06-407d-9327-1e45c1243caf"
      },
      "source": [
        "newnd.tail()"
      ],
      "execution_count": 23,
      "outputs": [
        {
          "output_type": "execute_result",
          "data": {
            "text/html": [
              "<div>\n",
              "<style scoped>\n",
              "    .dataframe tbody tr th:only-of-type {\n",
              "        vertical-align: middle;\n",
              "    }\n",
              "\n",
              "    .dataframe tbody tr th {\n",
              "        vertical-align: top;\n",
              "    }\n",
              "\n",
              "    .dataframe thead th {\n",
              "        text-align: right;\n",
              "    }\n",
              "</style>\n",
              "<table border=\"1\" class=\"dataframe\">\n",
              "  <thead>\n",
              "    <tr style=\"text-align: right;\">\n",
              "      <th></th>\n",
              "      <th>img</th>\n",
              "      <th>classval</th>\n",
              "    </tr>\n",
              "  </thead>\n",
              "  <tbody>\n",
              "    <tr>\n",
              "      <th>6464</th>\n",
              "      <td>image5127.jpg</td>\n",
              "      <td>4</td>\n",
              "    </tr>\n",
              "    <tr>\n",
              "      <th>6465</th>\n",
              "      <td>image6416.jpg</td>\n",
              "      <td>4</td>\n",
              "    </tr>\n",
              "    <tr>\n",
              "      <th>6466</th>\n",
              "      <td>image5923.jpg</td>\n",
              "      <td>2</td>\n",
              "    </tr>\n",
              "    <tr>\n",
              "      <th>6467</th>\n",
              "      <td>image114.jpg</td>\n",
              "      <td>4</td>\n",
              "    </tr>\n",
              "    <tr>\n",
              "      <th>6468</th>\n",
              "      <td>image1010.jpg</td>\n",
              "      <td>4</td>\n",
              "    </tr>\n",
              "  </tbody>\n",
              "</table>\n",
              "</div>"
            ],
            "text/plain": [
              "                img  classval\n",
              "6464  image5127.jpg         4\n",
              "6465  image6416.jpg         4\n",
              "6466  image5923.jpg         2\n",
              "6467   image114.jpg         4\n",
              "6468  image1010.jpg         4"
            ]
          },
          "metadata": {
            "tags": []
          },
          "execution_count": 23
        }
      ]
    },
    {
      "cell_type": "code",
      "metadata": {
        "colab": {
          "base_uri": "https://localhost:8080/"
        },
        "id": "5AZi50zC0jGm",
        "outputId": "3b14638e-c6f1-4a99-a39d-bc8d5b83ceba"
      },
      "source": [
        "set(newnd.classval)"
      ],
      "execution_count": 24,
      "outputs": [
        {
          "output_type": "execute_result",
          "data": {
            "text/plain": [
              "{0, 1, 2, 3, 4, 5}"
            ]
          },
          "metadata": {
            "tags": []
          },
          "execution_count": 24
        }
      ]
    },
    {
      "cell_type": "code",
      "metadata": {
        "colab": {
          "base_uri": "https://localhost:8080/"
        },
        "id": "gle3asjMNUdW",
        "outputId": "a1a87f4d-2aef-477e-874a-c7d624c6c2fb"
      },
      "source": [
        "q[42].shape"
      ],
      "execution_count": 25,
      "outputs": [
        {
          "output_type": "execute_result",
          "data": {
            "text/plain": [
              "(200, 200, 3)"
            ]
          },
          "metadata": {
            "tags": []
          },
          "execution_count": 25
        }
      ]
    },
    {
      "cell_type": "code",
      "metadata": {
        "id": "cmPbPEao2not"
      },
      "source": [
        "q=np.asarray(q)"
      ],
      "execution_count": 26,
      "outputs": []
    },
    {
      "cell_type": "code",
      "metadata": {
        "colab": {
          "base_uri": "https://localhost:8080/"
        },
        "id": "4Skwy9Zpe_sZ",
        "outputId": "3958d770-b5cf-4af8-cbd0-d514d704642e"
      },
      "source": [
        "q.shape"
      ],
      "execution_count": 27,
      "outputs": [
        {
          "output_type": "execute_result",
          "data": {
            "text/plain": [
              "(6469, 200, 200, 3)"
            ]
          },
          "metadata": {
            "tags": []
          },
          "execution_count": 27
        }
      ]
    },
    {
      "cell_type": "code",
      "metadata": {
        "colab": {
          "base_uri": "https://localhost:8080/"
        },
        "id": "vLlL3GNsffk4",
        "outputId": "dabf8a1d-95b9-4534-fb99-5f7ad9681f06"
      },
      "source": [
        "newnd.classval.shape"
      ],
      "execution_count": 28,
      "outputs": [
        {
          "output_type": "execute_result",
          "data": {
            "text/plain": [
              "(6469,)"
            ]
          },
          "metadata": {
            "tags": []
          },
          "execution_count": 28
        }
      ]
    },
    {
      "cell_type": "code",
      "metadata": {
        "colab": {
          "base_uri": "https://localhost:8080/",
          "height": 0
        },
        "id": "XjHZYNFLdFuC",
        "outputId": "9238c618-08c5-4bd2-db9c-933ddfea2235"
      },
      "source": [
        "Image.fromarray(q[-5],'RGB')\n"
      ],
      "execution_count": 29,
      "outputs": [
        {
          "output_type": "execute_result",
          "data": {
            "image/png": "[encoded data removed]",
            "text/plain": [
              "<PIL.Image.Image image mode=RGB size=200x200 at 0x7F62C41F4F10>"
            ]
          },
          "metadata": {
            "tags": []
          },
          "execution_count": 29
        }
      ]
    },
    {
      "cell_type": "markdown",
      "metadata": {
        "id": "bmMdAHyb1hb8"
      },
      "source": [
        "Converting the categorical labels to the 1,0 matrix"
      ]
    },
    {
      "cell_type": "code",
      "metadata": {
        "id": "eCawpo0s43hq"
      },
      "source": [
        "from keras.utils import to_categorical\n",
        "doit=to_categorical(newnd.classval)"
      ],
      "execution_count": 30,
      "outputs": []
    },
    {
      "cell_type": "code",
      "metadata": {
        "colab": {
          "base_uri": "https://localhost:8080/"
        },
        "id": "MRcZgFs9eHKz",
        "outputId": "772d486f-9ced-4574-b065-bee9b384ae09"
      },
      "source": [
        "doit"
      ],
      "execution_count": 31,
      "outputs": [
        {
          "output_type": "execute_result",
          "data": {
            "text/plain": [
              "array([[0., 0., 0., 0., 0., 1.],\n",
              "       [0., 1., 0., 0., 0., 0.],\n",
              "       [0., 0., 1., 0., 0., 0.],\n",
              "       ...,\n",
              "       [0., 0., 1., 0., 0., 0.],\n",
              "       [0., 0., 0., 0., 1., 0.],\n",
              "       [0., 0., 0., 0., 1., 0.]], dtype=float32)"
            ]
          },
          "metadata": {
            "tags": []
          },
          "execution_count": 31
        }
      ]
    },
    {
      "cell_type": "markdown",
      "metadata": {
        "id": "M1NNL3KI1sQq"
      },
      "source": [
        "Now training the model. But before that we have to do some slitting"
      ]
    },
    {
      "cell_type": "code",
      "metadata": {
        "colab": {
          "base_uri": "https://localhost:8080/"
        },
        "id": "-_oS1e9GMWhH",
        "outputId": "34cf29f0-a7fa-45dc-bd05-2dc138bfe6b3"
      },
      "source": [
        "newnd.classval.value_counts()"
      ],
      "execution_count": 32,
      "outputs": [
        {
          "output_type": "execute_result",
          "data": {
            "text/plain": [
              "4    2801\n",
              "2    1539\n",
              "3     640\n",
              "1     593\n",
              "0     535\n",
              "5     361\n",
              "Name: classval, dtype: int64"
            ]
          },
          "metadata": {
            "tags": []
          },
          "execution_count": 32
        }
      ]
    },
    {
      "cell_type": "markdown",
      "metadata": {
        "id": "5QDdvmqSOrTq"
      },
      "source": [
        "#See the data structure. whether it is correct or not"
      ]
    },
    {
      "cell_type": "code",
      "metadata": {
        "colab": {
          "base_uri": "https://localhost:8080/",
          "height": 0
        },
        "id": "W1ffm5LiOwNy",
        "outputId": "97cf84ba-48c0-4305-9807-49ea7c467415"
      },
      "source": [
        "newnd.tail()"
      ],
      "execution_count": 33,
      "outputs": [
        {
          "output_type": "execute_result",
          "data": {
            "text/html": [
              "<div>\n",
              "<style scoped>\n",
              "    .dataframe tbody tr th:only-of-type {\n",
              "        vertical-align: middle;\n",
              "    }\n",
              "\n",
              "    .dataframe tbody tr th {\n",
              "        vertical-align: top;\n",
              "    }\n",
              "\n",
              "    .dataframe thead th {\n",
              "        text-align: right;\n",
              "    }\n",
              "</style>\n",
              "<table border=\"1\" class=\"dataframe\">\n",
              "  <thead>\n",
              "    <tr style=\"text-align: right;\">\n",
              "      <th></th>\n",
              "      <th>img</th>\n",
              "      <th>classval</th>\n",
              "    </tr>\n",
              "  </thead>\n",
              "  <tbody>\n",
              "    <tr>\n",
              "      <th>6464</th>\n",
              "      <td>image5127.jpg</td>\n",
              "      <td>4</td>\n",
              "    </tr>\n",
              "    <tr>\n",
              "      <th>6465</th>\n",
              "      <td>image6416.jpg</td>\n",
              "      <td>4</td>\n",
              "    </tr>\n",
              "    <tr>\n",
              "      <th>6466</th>\n",
              "      <td>image5923.jpg</td>\n",
              "      <td>2</td>\n",
              "    </tr>\n",
              "    <tr>\n",
              "      <th>6467</th>\n",
              "      <td>image114.jpg</td>\n",
              "      <td>4</td>\n",
              "    </tr>\n",
              "    <tr>\n",
              "      <th>6468</th>\n",
              "      <td>image1010.jpg</td>\n",
              "      <td>4</td>\n",
              "    </tr>\n",
              "  </tbody>\n",
              "</table>\n",
              "</div>"
            ],
            "text/plain": [
              "                img  classval\n",
              "6464  image5127.jpg         4\n",
              "6465  image6416.jpg         4\n",
              "6466  image5923.jpg         2\n",
              "6467   image114.jpg         4\n",
              "6468  image1010.jpg         4"
            ]
          },
          "metadata": {
            "tags": []
          },
          "execution_count": 33
        }
      ]
    },
    {
      "cell_type": "markdown",
      "metadata": {
        "id": "6v-WEdFu3Gt0"
      },
      "source": [
        "#Train test split"
      ]
    },
    {
      "cell_type": "code",
      "metadata": {
        "id": "MU2PnmklzeMU"
      },
      "source": [
        "X_train, X_test, y_train, y_test = train_test_split(q, doit, test_size = 0.1, random_state = 41, shuffle = True, stratify = y)"
      ],
      "execution_count": 34,
      "outputs": []
    },
    {
      "cell_type": "markdown",
      "metadata": {
        "id": "oTzl0pECKzz8"
      },
      "source": [
        "# Simple training"
      ]
    },
    {
      "cell_type": "code",
      "metadata": {
        "colab": {
          "base_uri": "https://localhost:8080/"
        },
        "id": "59RUTiGRKPKQ",
        "outputId": "ae27ee08-1292-4d54-8b22-80b1e24fa99d"
      },
      "source": [
        "model=tf.keras.models.Sequential([\n",
        "      tf.keras.layers.Conv2D(16,(3,3),activation='relu', input_shape=(200,200,3)),\n",
        "      tf.keras.layers.MaxPooling2D(2,2),\n",
        "      tf.keras.layers.Conv2D(32,(3,3),activation='relu'),\n",
        "      tf.keras.layers.MaxPooling2D(2,2), \n",
        "      tf.keras.layers.Conv2D(64,(3,3),activation='relu'),\n",
        "      tf.keras.layers.MaxPooling2D(2,2),\n",
        "      tf.keras.layers.Flatten(),\n",
        "      tf.keras.layers.Dense(512,activation='relu'),\n",
        "      tf.keras.layers.Dense(6,activation='sigmoid')                             \n",
        "])\n",
        "model.compile(optimizer=tf.optimizers.Adam(),loss='binary_crossentropy',metrics=['accuracy'])\n",
        "model.fit(X_train,y_train,epochs=11,validation_data=(X_test, y_test))"
      ],
      "execution_count": null,
      "outputs": [
        {
          "output_type": "stream",
          "text": [
            "Epoch 1/11\n",
            "182/182 [==============================] - 12s 25ms/step - loss: 8.0589 - accuracy: 0.4452 - val_loss: 0.3587 - val_accuracy: 0.5549\n",
            "Epoch 2/11\n",
            "182/182 [==============================] - 4s 22ms/step - loss: 0.2958 - accuracy: 0.6435 - val_loss: 0.3267 - val_accuracy: 0.5796\n",
            "Epoch 3/11\n",
            "182/182 [==============================] - 4s 22ms/step - loss: 0.1822 - accuracy: 0.7987 - val_loss: 0.3869 - val_accuracy: 0.5750\n",
            "Epoch 4/11\n",
            "182/182 [==============================] - 4s 22ms/step - loss: 0.0994 - accuracy: 0.9169 - val_loss: 0.4647 - val_accuracy: 0.5564\n",
            "Epoch 5/11\n",
            "182/182 [==============================] - 4s 22ms/step - loss: 0.0543 - accuracy: 0.9621 - val_loss: 0.5503 - val_accuracy: 0.5796\n",
            "Epoch 6/11\n",
            "182/182 [==============================] - 4s 21ms/step - loss: 0.0330 - accuracy: 0.9798 - val_loss: 0.5033 - val_accuracy: 0.5811\n",
            "Epoch 7/11\n",
            "182/182 [==============================] - 4s 22ms/step - loss: 0.0236 - accuracy: 0.9867 - val_loss: 0.6330 - val_accuracy: 0.5796\n",
            "Epoch 8/11\n",
            "182/182 [==============================] - 4s 22ms/step - loss: 0.0132 - accuracy: 0.9938 - val_loss: 0.6425 - val_accuracy: 0.5873\n",
            "Epoch 9/11\n",
            "182/182 [==============================] - 4s 22ms/step - loss: 0.0142 - accuracy: 0.9952 - val_loss: 0.7994 - val_accuracy: 0.5672\n",
            "Epoch 10/11\n",
            "182/182 [==============================] - 4s 22ms/step - loss: 0.0104 - accuracy: 0.9970 - val_loss: 0.6984 - val_accuracy: 0.5781\n",
            "Epoch 11/11\n",
            "182/182 [==============================] - 4s 22ms/step - loss: 0.0087 - accuracy: 0.9964 - val_loss: 0.7366 - val_accuracy: 0.5920\n"
          ],
          "name": "stdout"
        },
        {
          "output_type": "execute_result",
          "data": {
            "text/plain": [
              "<tensorflow.python.keras.callbacks.History at 0x7fc650095850>"
            ]
          },
          "metadata": {
            "tags": []
          },
          "execution_count": 33
        }
      ]
    },
    {
      "cell_type": "markdown",
      "metadata": {
        "id": "kR8PX15YKPKV"
      },
      "source": [
        "At first i thought the model is over-fitted. So i  resampled the dataset and trained it again."
      ]
    },
    {
      "cell_type": "code",
      "metadata": {
        "id": "IpJtpiRlKPKX"
      },
      "source": [
        "y_pred = model.predict (X_test)\n"
      ],
      "execution_count": null,
      "outputs": []
    },
    {
      "cell_type": "code",
      "metadata": {
        "id": "3YY5acSHKPKZ"
      },
      "source": [
        "for i in range(len(y_pred)):\n",
        "  for j in range(6):\n",
        "    if y_pred[i][j]==max(y_pred[i]):\n",
        "      y_pred[i][j]=1\n",
        "    else:\n",
        "      y_pred[i][j]=0\n",
        "\n"
      ],
      "execution_count": null,
      "outputs": []
    },
    {
      "cell_type": "code",
      "metadata": {
        "colab": {
          "base_uri": "https://localhost:8080/"
        },
        "id": "N_bE7I8TKPKb",
        "outputId": "056eea2b-89b8-4c70-aaa5-19757f9187ff"
      },
      "source": [
        "y_pred"
      ],
      "execution_count": null,
      "outputs": [
        {
          "output_type": "execute_result",
          "data": {
            "text/plain": [
              "array([[0., 0., 1., 0., 0., 0.],\n",
              "       [0., 0., 1., 0., 0., 0.],\n",
              "       [0., 0., 1., 0., 0., 0.],\n",
              "       ...,\n",
              "       [0., 0., 0., 0., 1., 0.],\n",
              "       [1., 0., 0., 0., 0., 0.],\n",
              "       [0., 0., 0., 0., 1., 0.]], dtype=float32)"
            ]
          },
          "metadata": {
            "tags": []
          },
          "execution_count": 36
        }
      ]
    },
    {
      "cell_type": "markdown",
      "metadata": {
        "id": "SIfWl3-gKPKd"
      },
      "source": [
        "The predicted values converted to 0 and 1"
      ]
    },
    {
      "cell_type": "code",
      "metadata": {
        "id": "e4iZ1ymiKPKe"
      },
      "source": [
        "from sklearn.metrics import accuracy_score"
      ],
      "execution_count": null,
      "outputs": []
    },
    {
      "cell_type": "code",
      "metadata": {
        "colab": {
          "base_uri": "https://localhost:8080/"
        },
        "id": "1tYJM2ulKPKf",
        "outputId": "8162074c-1493-4f3b-ba8a-d65399931ad8"
      },
      "source": [
        "print(accuracy_score(y_test, y_pred))"
      ],
      "execution_count": null,
      "outputs": [
        {
          "output_type": "stream",
          "text": [
            "0.5919629057187017\n"
          ],
          "name": "stdout"
        }
      ]
    },
    {
      "cell_type": "code",
      "metadata": {
        "colab": {
          "base_uri": "https://localhost:8080/"
        },
        "id": "6gV9o2n-KPKg",
        "outputId": "948f2216-7d00-4858-9d40-3b91902b6d8b"
      },
      "source": [
        "print(classification_report(y_test, y_pred))"
      ],
      "execution_count": null,
      "outputs": [
        {
          "output_type": "stream",
          "text": [
            "              precision    recall  f1-score   support\n",
            "\n",
            "           0       0.52      0.25      0.34        55\n",
            "           1       0.69      0.41      0.52        58\n",
            "           2       0.62      0.69      0.65       159\n",
            "           3       0.57      0.43      0.49        58\n",
            "           4       0.60      0.73      0.66       273\n",
            "           5       0.35      0.27      0.31        44\n",
            "\n",
            "   micro avg       0.59      0.59      0.59       647\n",
            "   macro avg       0.56      0.46      0.49       647\n",
            "weighted avg       0.59      0.59      0.58       647\n",
            " samples avg       0.59      0.59      0.59       647\n",
            "\n"
          ],
          "name": "stdout"
        }
      ]
    },
    {
      "cell_type": "markdown",
      "metadata": {
        "id": "iYcS_nSdGBht"
      },
      "source": [
        "# Lets do some reshaping to do smoting and etc. "
      ]
    },
    {
      "cell_type": "markdown",
      "metadata": {
        "id": "LOd8g15W4K8W"
      },
      "source": [
        "Resampling the dataset. Smote only recieves 2d input. so we have to resahpe."
      ]
    },
    {
      "cell_type": "code",
      "metadata": {
        "colab": {
          "base_uri": "https://localhost:8080/"
        },
        "id": "ksPsslEUPPo6",
        "outputId": "a4f4e8ec-e455-4bdb-b649-e43d45d9ae1a"
      },
      "source": [
        "X_train.shape"
      ],
      "execution_count": null,
      "outputs": [
        {
          "output_type": "execute_result",
          "data": {
            "text/plain": [
              "(5822, 200, 200, 3)"
            ]
          },
          "metadata": {
            "tags": []
          },
          "execution_count": 40
        }
      ]
    },
    {
      "cell_type": "code",
      "metadata": {
        "id": "opUfRiji_59N"
      },
      "source": [
        "reshapedx=X_train\n",
        "reshapedy=y_train\n",
        "reshapedx=reshapedx.reshape((5822,120000))"
      ],
      "execution_count": null,
      "outputs": []
    },
    {
      "cell_type": "markdown",
      "metadata": {
        "id": "3GFQGrVtMgAx"
      },
      "source": [
        "#Smote training"
      ]
    },
    {
      "cell_type": "code",
      "metadata": {
        "colab": {
          "base_uri": "https://localhost:8080/"
        },
        "id": "IURiUaN19WMM",
        "outputId": "a4f7ed9c-e46f-4f2d-b774-f025235a235d"
      },
      "source": [
        "from imblearn.over_sampling import SMOTE\n",
        "sm = SMOTE(random_state=42)\n",
        "X_smote, y_smote = sm.fit_resample(reshapedx, reshapedy)"
      ],
      "execution_count": null,
      "outputs": [
        {
          "output_type": "stream",
          "text": [
            "/usr/local/lib/python3.7/dist-packages/sklearn/utils/deprecation.py:87: FutureWarning: Function safe_indexing is deprecated; safe_indexing is deprecated in version 0.22 and will be removed in version 0.24.\n",
            "  warnings.warn(msg, category=FutureWarning)\n",
            "/usr/local/lib/python3.7/dist-packages/sklearn/utils/deprecation.py:87: FutureWarning: Function safe_indexing is deprecated; safe_indexing is deprecated in version 0.22 and will be removed in version 0.24.\n",
            "  warnings.warn(msg, category=FutureWarning)\n",
            "/usr/local/lib/python3.7/dist-packages/sklearn/utils/deprecation.py:87: FutureWarning: Function safe_indexing is deprecated; safe_indexing is deprecated in version 0.22 and will be removed in version 0.24.\n",
            "  warnings.warn(msg, category=FutureWarning)\n",
            "/usr/local/lib/python3.7/dist-packages/sklearn/utils/deprecation.py:87: FutureWarning: Function safe_indexing is deprecated; safe_indexing is deprecated in version 0.22 and will be removed in version 0.24.\n",
            "  warnings.warn(msg, category=FutureWarning)\n",
            "/usr/local/lib/python3.7/dist-packages/sklearn/utils/deprecation.py:87: FutureWarning: Function safe_indexing is deprecated; safe_indexing is deprecated in version 0.22 and will be removed in version 0.24.\n",
            "  warnings.warn(msg, category=FutureWarning)\n"
          ],
          "name": "stderr"
        }
      ]
    },
    {
      "cell_type": "markdown",
      "metadata": {
        "id": "61LYvAndGWqM"
      },
      "source": [
        "After using smote we have convert dataset to its previous shape"
      ]
    },
    {
      "cell_type": "code",
      "metadata": {
        "colab": {
          "base_uri": "https://localhost:8080/"
        },
        "id": "8il5-ku8Cefe",
        "outputId": "ff460c22-6d8d-40d2-9c35-9d1178d44ee6"
      },
      "source": [
        "y_smote.shape"
      ],
      "execution_count": null,
      "outputs": [
        {
          "output_type": "execute_result",
          "data": {
            "text/plain": [
              "(15168, 6)"
            ]
          },
          "metadata": {
            "tags": []
          },
          "execution_count": 43
        }
      ]
    },
    {
      "cell_type": "code",
      "metadata": {
        "colab": {
          "base_uri": "https://localhost:8080/"
        },
        "id": "s16f3JOMEP_u",
        "outputId": "15200f05-d645-46bb-b0b6-f963c045d158"
      },
      "source": [
        "X_smote.shape"
      ],
      "execution_count": null,
      "outputs": [
        {
          "output_type": "execute_result",
          "data": {
            "text/plain": [
              "(15168, 120000)"
            ]
          },
          "metadata": {
            "tags": []
          },
          "execution_count": 44
        }
      ]
    },
    {
      "cell_type": "code",
      "metadata": {
        "colab": {
          "base_uri": "https://localhost:8080/"
        },
        "id": "hPB5aTq4CUds",
        "outputId": "660a02eb-2a43-4eb8-d923-fa05a8dd5853"
      },
      "source": [
        "X_smote=X_smote.reshape((15168, 200, 200, 3))\n",
        "X_smote.shape"
      ],
      "execution_count": null,
      "outputs": [
        {
          "output_type": "execute_result",
          "data": {
            "text/plain": [
              "(15168, 200, 200, 3)"
            ]
          },
          "metadata": {
            "tags": []
          },
          "execution_count": 45
        }
      ]
    },
    {
      "cell_type": "code",
      "metadata": {
        "colab": {
          "base_uri": "https://localhost:8080/"
        },
        "id": "I1QHWEcXyTt4",
        "outputId": "2eb932f7-7d6e-4df4-8997-601bd09e7def"
      },
      "source": [
        "model=tf.keras.models.Sequential([\n",
        "      tf.keras.layers.Conv2D(16,(3,3),activation='relu', input_shape=(200,200,3)),\n",
        "      tf.keras.layers.MaxPooling2D(2,2),\n",
        "      tf.keras.layers.Conv2D(32,(3,3),activation='relu'),\n",
        "      tf.keras.layers.MaxPooling2D(2,2), \n",
        "      tf.keras.layers.Conv2D(64,(3,3),activation='relu'),\n",
        "      tf.keras.layers.MaxPooling2D(2,2),\n",
        "      tf.keras.layers.Conv2D(64,(3,3),activation='relu'),\n",
        "      tf.keras.layers.MaxPooling2D(2,2),\n",
        "      tf.keras.layers.Conv2D(128,(3,3),activation='relu'),\n",
        "      tf.keras.layers.MaxPooling2D(2,2),\n",
        "      tf.keras.layers.Flatten(),\n",
        "      tf.keras.layers.Dense(512,activation='relu'),\n",
        "      tf.keras.layers.Dense(6,activation='sigmoid')                             \n",
        "])\n",
        "model.compile(optimizer=tf.optimizers.Adam(),loss='binary_crossentropy',metrics=['accuracy'])\n",
        "model.fit(X_smote,y_smote,epochs=30,validation_data=(X_test, y_test))"
      ],
      "execution_count": null,
      "outputs": [
        {
          "output_type": "stream",
          "text": [
            "Epoch 1/30\n",
            "474/474 [==============================] - 10s 19ms/step - loss: 0.7301 - accuracy: 0.3528 - val_loss: 0.3126 - val_accuracy: 0.5549\n",
            "Epoch 2/30\n",
            "474/474 [==============================] - 9s 19ms/step - loss: 0.2869 - accuracy: 0.6275 - val_loss: 0.2966 - val_accuracy: 0.5951\n",
            "Epoch 3/30\n",
            "474/474 [==============================] - 9s 19ms/step - loss: 0.2374 - accuracy: 0.6937 - val_loss: 0.3015 - val_accuracy: 0.6399\n",
            "Epoch 4/30\n",
            "474/474 [==============================] - 9s 19ms/step - loss: 0.1979 - accuracy: 0.7538 - val_loss: 0.3124 - val_accuracy: 0.5981\n",
            "Epoch 5/30\n",
            "474/474 [==============================] - 9s 19ms/step - loss: 0.1513 - accuracy: 0.8206 - val_loss: 0.3017 - val_accuracy: 0.6383\n",
            "Epoch 6/30\n",
            "474/474 [==============================] - 9s 19ms/step - loss: 0.1259 - accuracy: 0.8541 - val_loss: 0.3493 - val_accuracy: 0.6213\n",
            "Epoch 7/30\n",
            "474/474 [==============================] - 9s 19ms/step - loss: 0.0928 - accuracy: 0.9029 - val_loss: 0.3822 - val_accuracy: 0.6182\n",
            "Epoch 8/30\n",
            "474/474 [==============================] - 9s 19ms/step - loss: 0.0754 - accuracy: 0.9290 - val_loss: 0.3842 - val_accuracy: 0.6121\n",
            "Epoch 9/30\n",
            "474/474 [==============================] - 9s 19ms/step - loss: 0.0575 - accuracy: 0.9479 - val_loss: 0.4901 - val_accuracy: 0.6383\n",
            "Epoch 10/30\n",
            "474/474 [==============================] - 9s 19ms/step - loss: 0.0442 - accuracy: 0.9644 - val_loss: 0.5015 - val_accuracy: 0.6352\n",
            "Epoch 11/30\n",
            "474/474 [==============================] - 9s 19ms/step - loss: 0.0429 - accuracy: 0.9681 - val_loss: 0.5581 - val_accuracy: 0.6383\n",
            "Epoch 12/30\n",
            "474/474 [==============================] - 9s 19ms/step - loss: 0.0330 - accuracy: 0.9777 - val_loss: 0.5493 - val_accuracy: 0.6321\n",
            "Epoch 13/30\n",
            "474/474 [==============================] - 9s 19ms/step - loss: 0.0358 - accuracy: 0.9729 - val_loss: 0.6370 - val_accuracy: 0.6476\n",
            "Epoch 14/30\n",
            "474/474 [==============================] - 9s 19ms/step - loss: 0.0272 - accuracy: 0.9824 - val_loss: 0.6465 - val_accuracy: 0.6198\n",
            "Epoch 15/30\n",
            "474/474 [==============================] - 9s 19ms/step - loss: 0.0373 - accuracy: 0.9703 - val_loss: 0.6089 - val_accuracy: 0.5904\n",
            "Epoch 16/30\n",
            "474/474 [==============================] - 9s 19ms/step - loss: 0.0394 - accuracy: 0.9729 - val_loss: 0.7270 - val_accuracy: 0.5981\n",
            "Epoch 17/30\n",
            "474/474 [==============================] - 9s 19ms/step - loss: 0.0246 - accuracy: 0.9844 - val_loss: 0.7387 - val_accuracy: 0.6383\n",
            "Epoch 18/30\n",
            "474/474 [==============================] - 9s 19ms/step - loss: 0.0233 - accuracy: 0.9854 - val_loss: 0.6355 - val_accuracy: 0.6337\n",
            "Epoch 19/30\n",
            "474/474 [==============================] - 9s 19ms/step - loss: 0.0312 - accuracy: 0.9810 - val_loss: 0.8001 - val_accuracy: 0.6399\n",
            "Epoch 20/30\n",
            "474/474 [==============================] - 9s 19ms/step - loss: 0.0243 - accuracy: 0.9846 - val_loss: 0.7435 - val_accuracy: 0.6430\n",
            "Epoch 21/30\n",
            "474/474 [==============================] - 9s 19ms/step - loss: 0.0311 - accuracy: 0.9801 - val_loss: 0.6866 - val_accuracy: 0.6399\n",
            "Epoch 22/30\n",
            "474/474 [==============================] - 9s 19ms/step - loss: 0.0272 - accuracy: 0.9837 - val_loss: 0.7575 - val_accuracy: 0.6337\n",
            "Epoch 23/30\n",
            "474/474 [==============================] - 9s 19ms/step - loss: 0.0204 - accuracy: 0.9872 - val_loss: 0.7542 - val_accuracy: 0.6059\n",
            "Epoch 24/30\n",
            "474/474 [==============================] - 9s 19ms/step - loss: 0.0267 - accuracy: 0.9808 - val_loss: 0.8234 - val_accuracy: 0.6136\n",
            "Epoch 25/30\n",
            "474/474 [==============================] - 9s 19ms/step - loss: 0.0255 - accuracy: 0.9828 - val_loss: 0.8895 - val_accuracy: 0.6213\n",
            "Epoch 26/30\n",
            "474/474 [==============================] - 9s 19ms/step - loss: 0.0199 - accuracy: 0.9879 - val_loss: 0.9938 - val_accuracy: 0.6151\n",
            "Epoch 27/30\n",
            "474/474 [==============================] - 9s 19ms/step - loss: 0.0308 - accuracy: 0.9807 - val_loss: 0.8087 - val_accuracy: 0.5827\n",
            "Epoch 28/30\n",
            "474/474 [==============================] - 9s 19ms/step - loss: 0.0205 - accuracy: 0.9882 - val_loss: 0.7482 - val_accuracy: 0.6121\n",
            "Epoch 29/30\n",
            "474/474 [==============================] - 9s 19ms/step - loss: 0.0242 - accuracy: 0.9824 - val_loss: 0.8806 - val_accuracy: 0.6476\n",
            "Epoch 30/30\n",
            "474/474 [==============================] - 9s 19ms/step - loss: 0.0190 - accuracy: 0.9891 - val_loss: 1.2026 - val_accuracy: 0.5858\n"
          ],
          "name": "stdout"
        },
        {
          "output_type": "execute_result",
          "data": {
            "text/plain": [
              "<tensorflow.python.keras.callbacks.History at 0x7fc5f97dc8d0>"
            ]
          },
          "metadata": {
            "tags": []
          },
          "execution_count": 46
        }
      ]
    },
    {
      "cell_type": "markdown",
      "metadata": {
        "id": "pQceffFw1x4Y"
      },
      "source": [
        "At first i thought the model is over-fitted. So i  resampled the dataset and trained it again. The overfitting begins at epoch 8"
      ]
    },
    {
      "cell_type": "code",
      "metadata": {
        "id": "bvuk-mH0wZiq"
      },
      "source": [
        "y_pred = model.predict (X_test)\n"
      ],
      "execution_count": null,
      "outputs": []
    },
    {
      "cell_type": "code",
      "metadata": {
        "id": "UwixpRxf0PBB"
      },
      "source": [
        "for i in range(len(y_pred)):\n",
        "  for j in range(6):\n",
        "    if y_pred[i][j]==max(y_pred[i]):\n",
        "      y_pred[i][j]=1\n",
        "    else:\n",
        "      y_pred[i][j]=0\n",
        "\n"
      ],
      "execution_count": null,
      "outputs": []
    },
    {
      "cell_type": "code",
      "metadata": {
        "colab": {
          "base_uri": "https://localhost:8080/"
        },
        "id": "20g1ZZ-z6zed",
        "outputId": "5aab80ab-25ab-418c-b705-6ebcbcf2a466"
      },
      "source": [
        "y_pred"
      ],
      "execution_count": null,
      "outputs": [
        {
          "output_type": "execute_result",
          "data": {
            "text/plain": [
              "array([[0., 0., 1., 0., 0., 0.],\n",
              "       [0., 0., 1., 0., 0., 0.],\n",
              "       [0., 0., 1., 0., 0., 0.],\n",
              "       ...,\n",
              "       [0., 0., 0., 0., 1., 0.],\n",
              "       [1., 0., 0., 0., 0., 0.],\n",
              "       [0., 0., 0., 0., 0., 1.]], dtype=float32)"
            ]
          },
          "metadata": {
            "tags": []
          },
          "execution_count": 49
        }
      ]
    },
    {
      "cell_type": "markdown",
      "metadata": {
        "id": "HU5-SPBx8NHp"
      },
      "source": [
        "The predicted values converted to 0 and 1"
      ]
    },
    {
      "cell_type": "code",
      "metadata": {
        "id": "WsFwkC4VG-iY"
      },
      "source": [
        "from sklearn.metrics import accuracy_score"
      ],
      "execution_count": null,
      "outputs": []
    },
    {
      "cell_type": "code",
      "metadata": {
        "colab": {
          "base_uri": "https://localhost:8080/"
        },
        "id": "1ld-V0zr7Cyy",
        "outputId": "28e77a50-aaa4-4d08-8a23-1877b8a1c4a8"
      },
      "source": [
        "print(accuracy_score(y_test, y_pred))"
      ],
      "execution_count": null,
      "outputs": [
        {
          "output_type": "stream",
          "text": [
            "0.5857805255023184\n"
          ],
          "name": "stdout"
        }
      ]
    },
    {
      "cell_type": "code",
      "metadata": {
        "colab": {
          "base_uri": "https://localhost:8080/"
        },
        "id": "GrRnFCsC7NVk",
        "outputId": "4bf89190-c864-48c9-d66c-1a8c6fe9474a"
      },
      "source": [
        "print(classification_report(y_test, y_pred))"
      ],
      "execution_count": null,
      "outputs": [
        {
          "output_type": "stream",
          "text": [
            "              precision    recall  f1-score   support\n",
            "\n",
            "           0       0.43      0.55      0.48        55\n",
            "           1       0.62      0.48      0.54        58\n",
            "           2       0.68      0.76      0.72       159\n",
            "           3       0.54      0.55      0.55        58\n",
            "           4       0.60      0.56      0.58       273\n",
            "           5       0.36      0.34      0.35        44\n",
            "\n",
            "   micro avg       0.59      0.59      0.59       647\n",
            "   macro avg       0.54      0.54      0.54       647\n",
            "weighted avg       0.59      0.59      0.58       647\n",
            " samples avg       0.59      0.59      0.59       647\n",
            "\n"
          ],
          "name": "stdout"
        }
      ]
    },
    {
      "cell_type": "markdown",
      "metadata": {
        "id": "hgabgG_68WDS"
      },
      "source": [
        "Our training accuracy is 95 % but our testing accuracy is only 62% which means the model is overfitted. But when we see the classification report we can see the precision for most of the classes is getting in a same range."
      ]
    },
    {
      "cell_type": "markdown",
      "metadata": {
        "id": "UC1KH0D4NRSV"
      },
      "source": [
        "# What about random_over_sampling"
      ]
    },
    {
      "cell_type": "code",
      "metadata": {
        "colab": {
          "base_uri": "https://localhost:8080/"
        },
        "id": "POtledJlNb25",
        "outputId": "29bdc791-673b-4253-c4da-0aab20bd8d54"
      },
      "source": [
        "oversample = RandomOverSampler(sampling_strategy='minority')\n",
        "X_over, y_over = oversample.fit_resample(reshapedx, reshapedy)\n",
        "oversample = RandomOverSampler(sampling_strategy='minority')\n",
        "X_over, y_over = oversample.fit_resample(X_over, y_over)\n",
        "oversample = RandomOverSampler(sampling_strategy='minority')\n",
        "X_over, y_over = oversample.fit_resample(X_over, y_over)\n",
        "oversample = RandomOverSampler(sampling_strategy='minority')\n",
        "X_over, y_over = oversample.fit_resample(X_over, y_over)\n",
        "oversample = RandomOverSampler(sampling_strategy='minority')\n",
        "X_over, y_over = oversample.fit_resample(X_over, y_over)\n",
        "oversample = RandomOverSampler(sampling_strategy='minority')\n",
        "X_over, y_over = oversample.fit_resample(X_over, y_over)"
      ],
      "execution_count": null,
      "outputs": [
        {
          "output_type": "stream",
          "text": [
            "/usr/local/lib/python3.7/dist-packages/sklearn/utils/deprecation.py:87: FutureWarning: Function safe_indexing is deprecated; safe_indexing is deprecated in version 0.22 and will be removed in version 0.24.\n",
            "  warnings.warn(msg, category=FutureWarning)\n",
            "/usr/local/lib/python3.7/dist-packages/sklearn/utils/deprecation.py:87: FutureWarning: Function safe_indexing is deprecated; safe_indexing is deprecated in version 0.22 and will be removed in version 0.24.\n",
            "  warnings.warn(msg, category=FutureWarning)\n",
            "/usr/local/lib/python3.7/dist-packages/sklearn/utils/deprecation.py:87: FutureWarning: Function safe_indexing is deprecated; safe_indexing is deprecated in version 0.22 and will be removed in version 0.24.\n",
            "  warnings.warn(msg, category=FutureWarning)\n",
            "/usr/local/lib/python3.7/dist-packages/sklearn/utils/deprecation.py:87: FutureWarning: Function safe_indexing is deprecated; safe_indexing is deprecated in version 0.22 and will be removed in version 0.24.\n",
            "  warnings.warn(msg, category=FutureWarning)\n",
            "/usr/local/lib/python3.7/dist-packages/sklearn/utils/deprecation.py:87: FutureWarning: Function safe_indexing is deprecated; safe_indexing is deprecated in version 0.22 and will be removed in version 0.24.\n",
            "  warnings.warn(msg, category=FutureWarning)\n",
            "/usr/local/lib/python3.7/dist-packages/sklearn/utils/deprecation.py:87: FutureWarning: Function safe_indexing is deprecated; safe_indexing is deprecated in version 0.22 and will be removed in version 0.24.\n",
            "  warnings.warn(msg, category=FutureWarning)\n"
          ],
          "name": "stderr"
        }
      ]
    },
    {
      "cell_type": "code",
      "metadata": {
        "colab": {
          "base_uri": "https://localhost:8080/"
        },
        "id": "-TtzGyKV76L8",
        "outputId": "a40502e8-4238-44eb-c3a3-1e677e05fdd5"
      },
      "source": [
        "X_over.shape"
      ],
      "execution_count": null,
      "outputs": [
        {
          "output_type": "execute_result",
          "data": {
            "text/plain": [
              "(15168, 120000)"
            ]
          },
          "metadata": {
            "tags": []
          },
          "execution_count": 93
        }
      ]
    },
    {
      "cell_type": "code",
      "metadata": {
        "id": "XieFY1bF5oMv"
      },
      "source": [
        "X_over=X_over.reshape((15168, 200, 200, 3))"
      ],
      "execution_count": null,
      "outputs": []
    },
    {
      "cell_type": "code",
      "metadata": {
        "colab": {
          "base_uri": "https://localhost:8080/"
        },
        "id": "R5kf6iED72lC",
        "outputId": "acc2dda1-a93b-4f06-f4a5-ed30dbd2ed23"
      },
      "source": [
        "model=tf.keras.models.Sequential([\n",
        "      tf.keras.layers.Conv2D(16,(3,3),activation='relu', input_shape=(200,200,3)),\n",
        "      tf.keras.layers.MaxPooling2D(2,2),\n",
        "      tf.keras.layers.Conv2D(32,(3,3),activation='relu'),\n",
        "      tf.keras.layers.MaxPooling2D(2,2), \n",
        "      tf.keras.layers.Conv2D(64,(3,3),activation='relu'),\n",
        "      tf.keras.layers.MaxPooling2D(2,2),\n",
        "      tf.keras.layers.Conv2D(64,(3,3),activation='relu'),\n",
        "      tf.keras.layers.MaxPooling2D(2,2),\n",
        "      tf.keras.layers.Conv2D(64,(3,3),activation='relu'),\n",
        "      tf.keras.layers.MaxPooling2D(2,2),\n",
        "      tf.keras.layers.Flatten(),\n",
        "      tf.keras.layers.Dense(512,activation='relu'),\n",
        "      tf.keras.layers.Dense(1024,activation='relu'),\n",
        "      tf.keras.layers.Dense(6,activation='sigmoid')                             \n",
        "])\n",
        "model.compile(optimizer=tf.optimizers.Adam(),loss='binary_crossentropy',metrics=['accuracy'])\n",
        "model.fit(X_train,y_train,epochs=40,validation_data=(X_test, y_test))"
      ],
      "execution_count": null,
      "outputs": [
        {
          "output_type": "stream",
          "text": [
            "Epoch 1/25\n",
            "182/182 [==============================] - 4s 21ms/step - loss: 0.8153 - accuracy: 0.4442 - val_loss: 0.3104 - val_accuracy: 0.5858\n",
            "Epoch 2/25\n",
            "182/182 [==============================] - 4s 20ms/step - loss: 0.3032 - accuracy: 0.5959 - val_loss: 0.2957 - val_accuracy: 0.5920\n",
            "Epoch 3/25\n",
            "182/182 [==============================] - 4s 20ms/step - loss: 0.2812 - accuracy: 0.6342 - val_loss: 0.2788 - val_accuracy: 0.6043\n",
            "Epoch 4/25\n",
            "182/182 [==============================] - 4s 20ms/step - loss: 0.2477 - accuracy: 0.6923 - val_loss: 0.2688 - val_accuracy: 0.6507\n",
            "Epoch 5/25\n",
            "182/182 [==============================] - 4s 20ms/step - loss: 0.2404 - accuracy: 0.6956 - val_loss: 0.2746 - val_accuracy: 0.6182\n",
            "Epoch 6/25\n",
            "182/182 [==============================] - 4s 20ms/step - loss: 0.2067 - accuracy: 0.7467 - val_loss: 0.2680 - val_accuracy: 0.6538\n",
            "Epoch 7/25\n",
            "182/182 [==============================] - 4s 20ms/step - loss: 0.1899 - accuracy: 0.7624 - val_loss: 0.3148 - val_accuracy: 0.6291\n",
            "Epoch 8/25\n",
            "182/182 [==============================] - 4s 20ms/step - loss: 0.1754 - accuracy: 0.7882 - val_loss: 0.2867 - val_accuracy: 0.6538\n",
            "Epoch 9/25\n",
            "182/182 [==============================] - 4s 20ms/step - loss: 0.1414 - accuracy: 0.8336 - val_loss: 0.2795 - val_accuracy: 0.6662\n",
            "Epoch 10/25\n",
            "182/182 [==============================] - 4s 20ms/step - loss: 0.1367 - accuracy: 0.8394 - val_loss: 0.3266 - val_accuracy: 0.6677\n",
            "Epoch 11/25\n",
            "182/182 [==============================] - 4s 20ms/step - loss: 0.1151 - accuracy: 0.8697 - val_loss: 0.3512 - val_accuracy: 0.6553\n",
            "Epoch 12/25\n",
            "182/182 [==============================] - 4s 20ms/step - loss: 0.0961 - accuracy: 0.8960 - val_loss: 0.4184 - val_accuracy: 0.6306\n",
            "Epoch 13/25\n",
            "182/182 [==============================] - 4s 20ms/step - loss: 0.0923 - accuracy: 0.8968 - val_loss: 0.4423 - val_accuracy: 0.6662\n",
            "Epoch 14/25\n",
            "182/182 [==============================] - 4s 20ms/step - loss: 0.0701 - accuracy: 0.9178 - val_loss: 0.4579 - val_accuracy: 0.6414\n",
            "Epoch 15/25\n",
            "182/182 [==============================] - 4s 20ms/step - loss: 0.0508 - accuracy: 0.9468 - val_loss: 0.4488 - val_accuracy: 0.6275\n",
            "Epoch 16/25\n",
            "182/182 [==============================] - 4s 20ms/step - loss: 0.0576 - accuracy: 0.9419 - val_loss: 0.4587 - val_accuracy: 0.6399\n",
            "Epoch 17/25\n",
            "182/182 [==============================] - 4s 20ms/step - loss: 0.0578 - accuracy: 0.9450 - val_loss: 0.4802 - val_accuracy: 0.6569\n",
            "Epoch 18/25\n",
            "182/182 [==============================] - 4s 20ms/step - loss: 0.0481 - accuracy: 0.9478 - val_loss: 0.5127 - val_accuracy: 0.6043\n",
            "Epoch 19/25\n",
            "182/182 [==============================] - 4s 20ms/step - loss: 0.0369 - accuracy: 0.9661 - val_loss: 0.6039 - val_accuracy: 0.6275\n",
            "Epoch 20/25\n",
            "182/182 [==============================] - 4s 20ms/step - loss: 0.0482 - accuracy: 0.9555 - val_loss: 0.4896 - val_accuracy: 0.6522\n",
            "Epoch 21/25\n",
            "182/182 [==============================] - 4s 20ms/step - loss: 0.0385 - accuracy: 0.9599 - val_loss: 0.6253 - val_accuracy: 0.6352\n",
            "Epoch 22/25\n",
            "182/182 [==============================] - 4s 20ms/step - loss: 0.0226 - accuracy: 0.9805 - val_loss: 0.6873 - val_accuracy: 0.6291\n",
            "Epoch 23/25\n",
            "182/182 [==============================] - 4s 20ms/step - loss: 0.0329 - accuracy: 0.9662 - val_loss: 0.7583 - val_accuracy: 0.6337\n",
            "Epoch 24/25\n",
            "182/182 [==============================] - 4s 20ms/step - loss: 0.0281 - accuracy: 0.9740 - val_loss: 0.6918 - val_accuracy: 0.6414\n",
            "Epoch 25/25\n",
            "182/182 [==============================] - 4s 20ms/step - loss: 0.0245 - accuracy: 0.9761 - val_loss: 0.6570 - val_accuracy: 0.6291\n"
          ],
          "name": "stdout"
        },
        {
          "output_type": "execute_result",
          "data": {
            "text/plain": [
              "<tensorflow.python.keras.callbacks.History at 0x7fa4de3a8290>"
            ]
          },
          "metadata": {
            "tags": []
          },
          "execution_count": 95
        }
      ]
    },
    {
      "cell_type": "code",
      "metadata": {
        "id": "WpvHcD768Gki"
      },
      "source": [
        "y_pred = model.predict (X_test)\n"
      ],
      "execution_count": null,
      "outputs": []
    },
    {
      "cell_type": "code",
      "metadata": {
        "id": "uvN8OCVh8Sll"
      },
      "source": [
        "for i in range(len(y_pred)):\n",
        "  for j in range(6):\n",
        "    if y_pred[i][j]==max(y_pred[i]):\n",
        "      y_pred[i][j]=1\n",
        "    else:\n",
        "      y_pred[i][j]=0\n",
        "\n"
      ],
      "execution_count": null,
      "outputs": []
    },
    {
      "cell_type": "code",
      "metadata": {
        "colab": {
          "base_uri": "https://localhost:8080/"
        },
        "id": "0CexqFdH8Slq",
        "outputId": "5e44e861-7627-4f4a-fa6f-8ec8ae8e24b6"
      },
      "source": [
        "y_pred"
      ],
      "execution_count": null,
      "outputs": [
        {
          "output_type": "execute_result",
          "data": {
            "text/plain": [
              "array([[0., 0., 0., 0., 1., 0.],\n",
              "       [0., 0., 0., 0., 1., 0.],\n",
              "       [0., 0., 1., 0., 0., 0.],\n",
              "       ...,\n",
              "       [0., 0., 0., 0., 1., 0.],\n",
              "       [0., 0., 0., 0., 1., 0.],\n",
              "       [0., 0., 0., 0., 1., 0.]], dtype=float32)"
            ]
          },
          "metadata": {
            "tags": []
          },
          "execution_count": 98
        }
      ]
    },
    {
      "cell_type": "markdown",
      "metadata": {
        "id": "HSU9OhlY8Slu"
      },
      "source": [
        "The predicted values converted to 0 and 1"
      ]
    },
    {
      "cell_type": "code",
      "metadata": {
        "id": "5sf-gCzD8Slw"
      },
      "source": [
        "from sklearn.metrics import accuracy_score"
      ],
      "execution_count": null,
      "outputs": []
    },
    {
      "cell_type": "code",
      "metadata": {
        "colab": {
          "base_uri": "https://localhost:8080/"
        },
        "id": "5DoRH0IY8Slx",
        "outputId": "2877d0f5-8a1f-4824-b157-cf071fc14166"
      },
      "source": [
        "print(accuracy_score(y_test, y_pred))"
      ],
      "execution_count": null,
      "outputs": [
        {
          "output_type": "stream",
          "text": [
            "0.6290571870170015\n"
          ],
          "name": "stdout"
        }
      ]
    },
    {
      "cell_type": "code",
      "metadata": {
        "colab": {
          "base_uri": "https://localhost:8080/"
        },
        "id": "G4Yh3s2S8Slz",
        "outputId": "f119eb59-2818-404d-f90a-794c7cdb1bfc"
      },
      "source": [
        "print(classification_report(y_test, y_pred))"
      ],
      "execution_count": null,
      "outputs": [
        {
          "output_type": "stream",
          "text": [
            "              precision    recall  f1-score   support\n",
            "\n",
            "           0       0.57      0.49      0.53        55\n",
            "           1       0.63      0.45      0.53        58\n",
            "           2       0.75      0.67      0.70       159\n",
            "           3       0.50      0.31      0.38        58\n",
            "           4       0.62      0.76      0.68       273\n",
            "           5       0.49      0.52      0.51        44\n",
            "\n",
            "   micro avg       0.63      0.63      0.63       647\n",
            "   macro avg       0.59      0.53      0.55       647\n",
            "weighted avg       0.63      0.63      0.62       647\n",
            " samples avg       0.63      0.63      0.63       647\n",
            "\n"
          ],
          "name": "stdout"
        }
      ]
    },
    {
      "cell_type": "markdown",
      "metadata": {
        "id": "ddzypQBp8gMO"
      },
      "source": [
        "Oversampling improved acuracy"
      ]
    },
    {
      "cell_type": "markdown",
      "metadata": {
        "id": "gLgI6G-i8id8"
      },
      "source": [
        "#Lets do Undersampling"
      ]
    },
    {
      "cell_type": "code",
      "metadata": {
        "colab": {
          "base_uri": "https://localhost:8080/"
        },
        "id": "s9YDGA-7C-S1",
        "outputId": "a21c6f3e-226b-4800-83d3-5a6a7fe12226"
      },
      "source": [
        "reshapedx.shape"
      ],
      "execution_count": null,
      "outputs": [
        {
          "output_type": "execute_result",
          "data": {
            "text/plain": [
              "(5822, 120000)"
            ]
          },
          "metadata": {
            "tags": []
          },
          "execution_count": 102
        }
      ]
    },
    {
      "cell_type": "code",
      "metadata": {
        "colab": {
          "base_uri": "https://localhost:8080/"
        },
        "id": "VGwPQUZc8dED",
        "outputId": "44b4cafd-2b2d-4a7e-d40e-d2c9276ff022"
      },
      "source": [
        "undersample = RandomUnderSampler(sampling_strategy='majority')\n",
        "X_under, y_under = undersample.fit_resample(reshapedx, reshapedy)\n",
        "undersample = RandomUnderSampler(sampling_strategy='majority')\n",
        "X_under, y_under = undersample.fit_resample(X_under, y_under)\n",
        "undersample = RandomUnderSampler(sampling_strategy='majority')\n",
        "X_under, y_under = undersample.fit_resample(X_under, y_under)\n",
        "undersample = RandomUnderSampler(sampling_strategy='majority')\n",
        "X_under, y_under = undersample.fit_resample(X_under, y_under)\n",
        "undersample = RandomUnderSampler(sampling_strategy='majority')\n",
        "X_under, y_under = undersample.fit_resample(X_under, y_under)\n",
        "\n"
      ],
      "execution_count": null,
      "outputs": [
        {
          "output_type": "stream",
          "text": [
            "/usr/local/lib/python3.7/dist-packages/sklearn/utils/deprecation.py:87: FutureWarning: Function safe_indexing is deprecated; safe_indexing is deprecated in version 0.22 and will be removed in version 0.24.\n",
            "  warnings.warn(msg, category=FutureWarning)\n",
            "/usr/local/lib/python3.7/dist-packages/sklearn/utils/deprecation.py:87: FutureWarning: Function safe_indexing is deprecated; safe_indexing is deprecated in version 0.22 and will be removed in version 0.24.\n",
            "  warnings.warn(msg, category=FutureWarning)\n",
            "/usr/local/lib/python3.7/dist-packages/sklearn/utils/deprecation.py:87: FutureWarning: Function safe_indexing is deprecated; safe_indexing is deprecated in version 0.22 and will be removed in version 0.24.\n",
            "  warnings.warn(msg, category=FutureWarning)\n",
            "/usr/local/lib/python3.7/dist-packages/sklearn/utils/deprecation.py:87: FutureWarning: Function safe_indexing is deprecated; safe_indexing is deprecated in version 0.22 and will be removed in version 0.24.\n",
            "  warnings.warn(msg, category=FutureWarning)\n",
            "/usr/local/lib/python3.7/dist-packages/sklearn/utils/deprecation.py:87: FutureWarning: Function safe_indexing is deprecated; safe_indexing is deprecated in version 0.22 and will be removed in version 0.24.\n",
            "  warnings.warn(msg, category=FutureWarning)\n"
          ],
          "name": "stderr"
        }
      ]
    },
    {
      "cell_type": "code",
      "metadata": {
        "colab": {
          "base_uri": "https://localhost:8080/"
        },
        "id": "pBLfC4cXKxqr",
        "outputId": "fe9af0e8-45ea-47ee-cd3c-12001a6eda3d"
      },
      "source": [
        "y_under.shape"
      ],
      "execution_count": null,
      "outputs": [
        {
          "output_type": "execute_result",
          "data": {
            "text/plain": [
              "(1902, 6)"
            ]
          },
          "metadata": {
            "tags": []
          },
          "execution_count": 104
        }
      ]
    },
    {
      "cell_type": "code",
      "metadata": {
        "id": "S6ayQm6YK1PN"
      },
      "source": [
        "X_under=X_under.reshape((1902,200,200,3))"
      ],
      "execution_count": null,
      "outputs": []
    },
    {
      "cell_type": "code",
      "metadata": {
        "colab": {
          "base_uri": "https://localhost:8080/"
        },
        "id": "2ZWX013QNTey",
        "outputId": "05a11fa4-8377-4462-aeb1-a076dd4d83dd"
      },
      "source": [
        "model=tf.keras.models.Sequential([\n",
        "      tf.keras.layers.Conv2D(16,(3,3),activation='relu', input_shape=(200,200,3)),\n",
        "      tf.keras.layers.MaxPooling2D(2,2),\n",
        "      tf.keras.layers.Conv2D(32,(3,3),activation='relu'),\n",
        "      tf.keras.layers.MaxPooling2D(2,2), \n",
        "      tf.keras.layers.Conv2D(64,(3,3),activation='relu'),\n",
        "      tf.keras.layers.MaxPooling2D(2,2),\n",
        "      tf.keras.layers.Conv2D(128,(3,3),activation='relu'),\n",
        "      tf.keras.layers.MaxPooling2D(2,2),\n",
        "      tf.keras.layers.Conv2D(128,(3,3),activation='relu'),\n",
        "      tf.keras.layers.MaxPooling2D(2,2),\n",
        "\n",
        "      tf.keras.layers.Flatten(),\n",
        "      tf.keras.layers.Dense(512,activation='relu'),\n",
        "      tf.keras.layers.Dense(1024,activation='relu'),\n",
        "      tf.keras.layers.Dense(6,activation='sigmoid')                             \n",
        "])\n",
        "model.compile(optimizer=tf.optimizers.Adam(),loss='binary_crossentropy',metrics=['accuracy'])\n",
        "model.fit(X_under,y_under,epochs=30,validation_data=(X_test,y_test))"
      ],
      "execution_count": null,
      "outputs": [
        {
          "output_type": "stream",
          "text": [
            "Epoch 1/30\n",
            "60/60 [==============================] - 2s 27ms/step - loss: 1.3869 - accuracy: 0.2892 - val_loss: 0.4140 - val_accuracy: 0.3261\n",
            "Epoch 2/30\n",
            "60/60 [==============================] - 1s 23ms/step - loss: 0.3688 - accuracy: 0.4828 - val_loss: 0.4388 - val_accuracy: 0.2875\n",
            "Epoch 3/30\n",
            "60/60 [==============================] - 1s 23ms/step - loss: 0.3340 - accuracy: 0.5359 - val_loss: 0.4204 - val_accuracy: 0.2859\n",
            "Epoch 4/30\n",
            "60/60 [==============================] - 1s 23ms/step - loss: 0.3033 - accuracy: 0.5821 - val_loss: 0.4690 - val_accuracy: 0.3369\n",
            "Epoch 5/30\n",
            "60/60 [==============================] - 1s 23ms/step - loss: 0.2775 - accuracy: 0.6427 - val_loss: 0.3337 - val_accuracy: 0.5549\n",
            "Epoch 6/30\n",
            "60/60 [==============================] - 1s 23ms/step - loss: 0.2467 - accuracy: 0.6692 - val_loss: 0.3530 - val_accuracy: 0.5301\n",
            "Epoch 7/30\n",
            "60/60 [==============================] - 1s 23ms/step - loss: 0.2165 - accuracy: 0.7176 - val_loss: 0.4377 - val_accuracy: 0.3910\n",
            "Epoch 8/30\n",
            "60/60 [==============================] - 1s 23ms/step - loss: 0.1975 - accuracy: 0.7561 - val_loss: 0.3932 - val_accuracy: 0.5147\n",
            "Epoch 9/30\n",
            "60/60 [==============================] - 1s 23ms/step - loss: 0.1724 - accuracy: 0.7867 - val_loss: 0.4807 - val_accuracy: 0.4946\n",
            "Epoch 10/30\n",
            "60/60 [==============================] - 1s 23ms/step - loss: 0.1309 - accuracy: 0.8428 - val_loss: 0.4620 - val_accuracy: 0.4884\n",
            "Epoch 11/30\n",
            "60/60 [==============================] - 1s 23ms/step - loss: 0.1157 - accuracy: 0.8712 - val_loss: 0.6184 - val_accuracy: 0.4374\n",
            "Epoch 12/30\n",
            "60/60 [==============================] - 1s 23ms/step - loss: 0.1119 - accuracy: 0.8804 - val_loss: 0.5942 - val_accuracy: 0.4683\n",
            "Epoch 13/30\n",
            "60/60 [==============================] - 1s 23ms/step - loss: 0.1018 - accuracy: 0.8769 - val_loss: 0.6601 - val_accuracy: 0.4930\n",
            "Epoch 14/30\n",
            "60/60 [==============================] - 1s 23ms/step - loss: 0.0634 - accuracy: 0.9382 - val_loss: 0.7226 - val_accuracy: 0.4637\n",
            "Epoch 15/30\n",
            "60/60 [==============================] - 1s 23ms/step - loss: 0.0413 - accuracy: 0.9612 - val_loss: 0.8469 - val_accuracy: 0.4560\n",
            "Epoch 16/30\n",
            "60/60 [==============================] - 1s 23ms/step - loss: 0.0661 - accuracy: 0.9319 - val_loss: 0.7305 - val_accuracy: 0.5147\n",
            "Epoch 17/30\n",
            "60/60 [==============================] - 1s 23ms/step - loss: 0.0470 - accuracy: 0.9620 - val_loss: 0.9284 - val_accuracy: 0.4621\n",
            "Epoch 18/30\n",
            "60/60 [==============================] - 1s 23ms/step - loss: 0.0674 - accuracy: 0.9354 - val_loss: 0.6547 - val_accuracy: 0.5425\n",
            "Epoch 19/30\n",
            "60/60 [==============================] - 1s 23ms/step - loss: 0.0422 - accuracy: 0.9611 - val_loss: 0.7582 - val_accuracy: 0.5147\n",
            "Epoch 20/30\n",
            "60/60 [==============================] - 1s 23ms/step - loss: 0.0103 - accuracy: 0.9931 - val_loss: 1.1811 - val_accuracy: 0.4189\n",
            "Epoch 21/30\n",
            "60/60 [==============================] - 1s 23ms/step - loss: 0.0442 - accuracy: 0.9570 - val_loss: 0.8696 - val_accuracy: 0.4714\n",
            "Epoch 22/30\n",
            "60/60 [==============================] - 1s 23ms/step - loss: 0.0632 - accuracy: 0.9367 - val_loss: 0.9888 - val_accuracy: 0.4219\n",
            "Epoch 23/30\n",
            "60/60 [==============================] - 1s 23ms/step - loss: 0.0585 - accuracy: 0.9410 - val_loss: 0.8501 - val_accuracy: 0.4900\n",
            "Epoch 24/30\n",
            "60/60 [==============================] - 1s 23ms/step - loss: 0.0285 - accuracy: 0.9668 - val_loss: 1.1457 - val_accuracy: 0.4482\n",
            "Epoch 25/30\n",
            "60/60 [==============================] - 1s 23ms/step - loss: 0.0260 - accuracy: 0.9761 - val_loss: 0.9250 - val_accuracy: 0.4467\n",
            "Epoch 26/30\n",
            "60/60 [==============================] - 1s 23ms/step - loss: 0.0255 - accuracy: 0.9796 - val_loss: 0.9984 - val_accuracy: 0.4745\n",
            "Epoch 27/30\n",
            "60/60 [==============================] - 1s 23ms/step - loss: 0.0207 - accuracy: 0.9811 - val_loss: 0.9127 - val_accuracy: 0.5502\n",
            "Epoch 28/30\n",
            "60/60 [==============================] - 1s 23ms/step - loss: 0.0395 - accuracy: 0.9690 - val_loss: 0.9834 - val_accuracy: 0.4498\n",
            "Epoch 29/30\n",
            "60/60 [==============================] - 1s 23ms/step - loss: 0.0170 - accuracy: 0.9868 - val_loss: 1.0342 - val_accuracy: 0.5131\n",
            "Epoch 30/30\n",
            "60/60 [==============================] - 1s 23ms/step - loss: 0.0050 - accuracy: 0.9954 - val_loss: 1.1218 - val_accuracy: 0.5085\n"
          ],
          "name": "stdout"
        },
        {
          "output_type": "execute_result",
          "data": {
            "text/plain": [
              "<tensorflow.python.keras.callbacks.History at 0x7fa4d6634ad0>"
            ]
          },
          "metadata": {
            "tags": []
          },
          "execution_count": 113
        }
      ]
    },
    {
      "cell_type": "code",
      "metadata": {
        "id": "fiGoWhzVNfMp"
      },
      "source": [
        ""
      ],
      "execution_count": null,
      "outputs": []
    },
    {
      "cell_type": "code",
      "metadata": {
        "id": "9kvSiRZsNxyO"
      },
      "source": [
        "y_pred = model.predict (X_test)\n"
      ],
      "execution_count": null,
      "outputs": []
    },
    {
      "cell_type": "code",
      "metadata": {
        "id": "psIcBtS1NxyR"
      },
      "source": [
        "for i in range(len(y_pred)):\n",
        "  for j in range(6):\n",
        "    if y_pred[i][j]==max(y_pred[i]):\n",
        "      y_pred[i][j]=1\n",
        "    else:\n",
        "      y_pred[i][j]=0\n",
        "\n"
      ],
      "execution_count": null,
      "outputs": []
    },
    {
      "cell_type": "code",
      "metadata": {
        "colab": {
          "base_uri": "https://localhost:8080/"
        },
        "id": "KBXUK4UoNxyT",
        "outputId": "e68e6ecd-8c33-4842-8b0e-67417150a654"
      },
      "source": [
        "y_pred"
      ],
      "execution_count": null,
      "outputs": [
        {
          "output_type": "execute_result",
          "data": {
            "text/plain": [
              "array([[0., 0., 0., 0., 1., 0.],\n",
              "       [1., 0., 0., 0., 0., 0.],\n",
              "       [0., 0., 0., 1., 0., 0.],\n",
              "       ...,\n",
              "       [0., 1., 0., 0., 0., 0.],\n",
              "       [1., 0., 0., 0., 0., 0.],\n",
              "       [0., 0., 0., 0., 1., 0.]], dtype=float32)"
            ]
          },
          "metadata": {
            "tags": []
          },
          "execution_count": 116
        }
      ]
    },
    {
      "cell_type": "markdown",
      "metadata": {
        "id": "k5qLNOnZNxyV"
      },
      "source": [
        "The predicted values converted to 0 and 1"
      ]
    },
    {
      "cell_type": "code",
      "metadata": {
        "id": "X8u7aH0ANxyY"
      },
      "source": [
        "from sklearn.metrics import accuracy_score"
      ],
      "execution_count": null,
      "outputs": []
    },
    {
      "cell_type": "code",
      "metadata": {
        "colab": {
          "base_uri": "https://localhost:8080/"
        },
        "id": "pJjzVWU3Nxye",
        "outputId": "9d192750-d5b4-494c-8fe9-26964d45e5f3"
      },
      "source": [
        "print(accuracy_score(y_test, y_pred))"
      ],
      "execution_count": null,
      "outputs": [
        {
          "output_type": "stream",
          "text": [
            "0.508500772797527\n"
          ],
          "name": "stdout"
        }
      ]
    },
    {
      "cell_type": "code",
      "metadata": {
        "colab": {
          "base_uri": "https://localhost:8080/"
        },
        "id": "ZMw3kGsLNxyg",
        "outputId": "ff5ac323-a009-4ddc-9088-89ff12b8985c"
      },
      "source": [
        "print(classification_report(y_test, y_pred))"
      ],
      "execution_count": null,
      "outputs": [
        {
          "output_type": "stream",
          "text": [
            "              precision    recall  f1-score   support\n",
            "\n",
            "           0       0.36      0.55      0.43        55\n",
            "           1       0.48      0.57      0.52        58\n",
            "           2       0.65      0.64      0.65       159\n",
            "           3       0.41      0.62      0.49        58\n",
            "           4       0.64      0.36      0.46       273\n",
            "           5       0.30      0.68      0.42        44\n",
            "\n",
            "   micro avg       0.51      0.51      0.51       647\n",
            "   macro avg       0.48      0.57      0.50       647\n",
            "weighted avg       0.56      0.51      0.51       647\n",
            " samples avg       0.51      0.51      0.51       647\n",
            "\n"
          ],
          "name": "stdout"
        }
      ]
    },
    {
      "cell_type": "markdown",
      "metadata": {
        "id": "TkCQpJwhOVVm"
      },
      "source": [
        "oops this gives the lowest accuracy"
      ]
    },
    {
      "cell_type": "code",
      "metadata": {
        "id": "qdQEVp5fN0_2"
      },
      "source": [
        ""
      ],
      "execution_count": null,
      "outputs": []
    },
    {
      "cell_type": "markdown",
      "metadata": {
        "id": "eteVdZ_TO3vn"
      },
      "source": [
        "#The final case. **Image_Data_generator** \n",
        "\n",
        "\n",
        "this one i don't get it **i am getting it**"
      ]
    },
    {
      "cell_type": "code",
      "metadata": {
        "id": "USbRlycvRaZD",
        "colab": {
          "base_uri": "https://localhost:8080/"
        },
        "outputId": "2ca53946-efa1-4958-80c3-0f284c3d17f2"
      },
      "source": [
        "from keras.preprocessing.image import ImageDataGenerator\n",
        "from imblearn.keras import balanced_batch_generator\n",
        "from keras.utils.data_utils import Sequence\n",
        "import cv2"
      ],
      "execution_count": 35,
      "outputs": [
        {
          "output_type": "stream",
          "text": [
            "/usr/local/lib/python3.7/dist-packages/sklearn/utils/deprecation.py:144: FutureWarning: The sklearn.utils.testing module is  deprecated in version 0.22 and will be removed in version 0.24. The corresponding classes / functions should instead be imported from sklearn.utils. Anything that cannot be imported from sklearn.utils is now part of the private API.\n",
            "  warnings.warn(message, FutureWarning)\n"
          ],
          "name": "stderr"
        }
      ]
    },
    {
      "cell_type": "code",
      "metadata": {
        "id": "sPBs1W4lWJS2"
      },
      "source": [
        "class BalancedDataGenerator(Sequence):\n",
        "    \"\"\"ImageDataGenerator + RandomOversampling\"\"\"\n",
        "    def __init__(self, x, y, datagen, batch_size=32):\n",
        "        self.datagen = datagen\n",
        "        self.batch_size = min(batch_size, x.shape[0])\n",
        "        datagen.fit(x)\n",
        "        self.gen, self.steps_per_epoch = balanced_batch_generator(x.reshape(x.shape[0], -1), y, sampler=RandomOverSampler(), batch_size=self.batch_size, keep_sparse=True)\n",
        "        self._shape = (self.steps_per_epoch * batch_size, *x.shape[1:])\n",
        "        \n",
        "    def __len__(self):\n",
        "        return self.steps_per_epoch\n",
        "\n",
        "    def __getitem__(self, idx):\n",
        "        x_batch, y_batch = self.gen.__next__()\n",
        "        x_batch = x_batch.reshape(-1, *self._shape[1:])\n",
        "        return self.datagen.flow(x_batch, y_batch, batch_size=self.batch_size).next()"
      ],
      "execution_count": 36,
      "outputs": []
    },
    {
      "cell_type": "markdown",
      "metadata": {
        "id": "4JshNrKXa4iA"
      },
      "source": [
        "To undersatnd follow this link, https://theailearner.com/2019/07/06/data-augmentation-with-keras-imagedatagenerator/\n",
        "https://machinelearningmastery.com/how-to-normalize-center-and-standardize-images-with-the-imagedatagenerator-in-keras/\n",
        "https://keras.io/api/preprocessing/image/"
      ]
    },
    {
      "cell_type": "code",
      "metadata": {
        "id": "JvqdsrDgWcBC"
      },
      "source": [
        "def blur(img):\r\n",
        "    return (cv2.blur(img,(5,5)))"
      ],
      "execution_count": 37,
      "outputs": []
    },
    {
      "cell_type": "code",
      "metadata": {
        "id": "lxJn1sdSRdLN"
      },
      "source": [
        "datagen = ImageDataGenerator(\n",
        " rotation_range=40,\n",
        " shear_range=0.2,\n",
        " horizontal_flip=True,\n",
        " fill_mode='nearest',\n",
        " #rescale=1/255,\n",
        " brightness_range=[0.2,0.8],\n",
        " )\n"
      ],
      "execution_count": 38,
      "outputs": []
    },
    {
      "cell_type": "code",
      "metadata": {
        "colab": {
          "base_uri": "https://localhost:8080/"
        },
        "id": "5r2Tr8_4TaJI",
        "outputId": "52a27697-95fb-4722-fd18-babb2a1137be"
      },
      "source": [
        "balanced_gen = BalancedDataGenerator(X_train, y_train, datagen, batch_size=32)\n",
        "steps_per_epoch = balanced_gen.steps_per_epoch"
      ],
      "execution_count": 39,
      "outputs": [
        {
          "output_type": "stream",
          "text": [
            "/usr/local/lib/python3.7/dist-packages/sklearn/utils/deprecation.py:87: FutureWarning: Function safe_indexing is deprecated; safe_indexing is deprecated in version 0.22 and will be removed in version 0.24.\n",
            "  warnings.warn(msg, category=FutureWarning)\n"
          ],
          "name": "stderr"
        }
      ]
    },
    {
      "cell_type": "code",
      "metadata": {
        "id": "4hpilPqNR1_2",
        "colab": {
          "base_uri": "https://localhost:8080/"
        },
        "outputId": "fc3d4de9-cffe-4746-cbfa-c414da9a3486"
      },
      "source": [
        "model=tf.keras.models.Sequential([\r\n",
        "      tf.keras.layers.Conv2D(16,(3,3),activation='relu', input_shape=(200,200,3)),\r\n",
        "      tf.keras.layers.MaxPooling2D(2,2),\r\n",
        "      tf.keras.layers.Conv2D(32,(3,3),activation='relu'),\r\n",
        "      tf.keras.layers.MaxPooling2D(2,2),\r\n",
        "      tf.keras.layers.Conv2D(64,(3,3),activation='relu'),\r\n",
        "      tf.keras.layers.MaxPooling2D(2,2),\r\n",
        "      tf.keras.layers.Conv2D(128,(3,3),activation='relu'),\r\n",
        "      tf.keras.layers.MaxPooling2D(2,2),\r\n",
        "      tf.keras.layers.Flatten(),\r\n",
        "      tf.keras.layers.Dense(512,activation='relu'),\r\n",
        "      tf.keras.layers.Dense(1024,activation='relu'),\r\n",
        "      tf.keras.layers.Dense(1024,activation='relu'),   \r\n",
        "      tf.keras.layers.Dense(6,activation='sigmoid')                             \r\n",
        "])\r\n",
        "model.compile(optimizer=tf.optimizers.Adam(),loss='binary_crossentropy',metrics=['accuracy'])\r\n",
        "model.fit_generator(balanced_gen,steps_per_epoch,epochs=55,validation_data=(X_test,y_test))"
      ],
      "execution_count": null,
      "outputs": [
        {
          "output_type": "stream",
          "text": [
            "/usr/local/lib/python3.7/dist-packages/tensorflow/python/keras/engine/training.py:1844: UserWarning: `Model.fit_generator` is deprecated and will be removed in a future version. Please use `Model.fit`, which supports generators.\n",
            "  warnings.warn('`Model.fit_generator` is deprecated and '\n",
            "/usr/local/lib/python3.7/dist-packages/sklearn/utils/deprecation.py:87: FutureWarning: Function safe_indexing is deprecated; safe_indexing is deprecated in version 0.22 and will be removed in version 0.24.\n",
            "  warnings.warn(msg, category=FutureWarning)\n"
          ],
          "name": "stderr"
        },
        {
          "output_type": "stream",
          "text": [
            "Epoch 1/55\n",
            "474/474 [==============================] - 148s 297ms/step - loss: 0.9554 - accuracy: 0.4284 - val_loss: 0.3756 - val_accuracy: 0.4992\n",
            "Epoch 2/55\n",
            "474/474 [==============================] - 141s 297ms/step - loss: 0.3030 - accuracy: 0.5862 - val_loss: 0.3488 - val_accuracy: 0.5456\n",
            "Epoch 3/55\n",
            " 33/474 [=>............................] - ETA: 2:10 - loss: 0.2759 - accuracy: 0.6346"
          ],
          "name": "stdout"
        }
      ]
    },
    {
      "cell_type": "code",
      "metadata": {
        "id": "trAcnSEbWkKO"
      },
      "source": [
        "model=tf.keras.models.Sequential([\n",
        "      tf.keras.layers.Conv2D(16,(3,3),activation='relu', input_shape=(200,200,3)),\n",
        "      tf.keras.layers.MaxPooling2D(2,2),\n",
        "      tf.keras.layers.Conv2D(32,(3,3),activation='relu'),\n",
        "      tf.keras.layers.MaxPooling2D(2,2),\n",
        "      tf.keras.layers.Conv2D(64,(3,3),activation='relu'),\n",
        "      tf.keras.layers.MaxPooling2D(2,2),\n",
        "      tf.keras.layers.Conv2D(128,(3,3),activation='relu'),\n",
        "      tf.keras.layers.MaxPooling2D(2,2),\n",
        "      tf.keras.layers.Flatten(),\n",
        "      tf.keras.layers.Dense(512,activation='relu'),\n",
        "      tf.keras.layers.Dense(1024,activation='relu'),\n",
        "      tf.keras.layers.Dense(6,activation='sigmoid')                             \n",
        "])\n",
        "model.compile(optimizer=tf.optimizers.Adam(),loss='binary_crossentropy',metrics=['accuracy'])\n",
        "model.fit_generator(balanced_gen,steps_per_epoch,epochs=55,validation_data=(X_test,y_test))"
      ],
      "execution_count": null,
      "outputs": []
    },
    {
      "cell_type": "markdown",
      "metadata": {
        "id": "47h7PEn6WkKX"
      },
      "source": [
        "At first i thought the model is over-fitted. So i  resampled the dataset and trained it again."
      ]
    },
    {
      "cell_type": "code",
      "metadata": {
        "id": "tzkFCn7HWkKY"
      },
      "source": [
        "y_pred = model.predict (X_test)\n"
      ],
      "execution_count": null,
      "outputs": []
    },
    {
      "cell_type": "code",
      "metadata": {
        "id": "nNLJ_W8wWkKa"
      },
      "source": [
        "for i in range(len(y_pred)):\n",
        "  for j in range(6):\n",
        "    if y_pred[i][j]==max(y_pred[i]):\n",
        "      y_pred[i][j]=1\n",
        "    else:\n",
        "      y_pred[i][j]=0\n",
        "\n"
      ],
      "execution_count": null,
      "outputs": []
    },
    {
      "cell_type": "code",
      "metadata": {
        "id": "0i0mKx5QWkKb"
      },
      "source": [
        "y_pred"
      ],
      "execution_count": null,
      "outputs": []
    },
    {
      "cell_type": "markdown",
      "metadata": {
        "id": "Klkj0uJcWkKd"
      },
      "source": [
        "The predicted values converted to 0 and 1"
      ]
    },
    {
      "cell_type": "code",
      "metadata": {
        "id": "J3kppP00WkKe"
      },
      "source": [
        "from sklearn.metrics import accuracy_score"
      ],
      "execution_count": null,
      "outputs": []
    },
    {
      "cell_type": "code",
      "metadata": {
        "id": "2QwjPc9pWkKg"
      },
      "source": [
        "print(accuracy_score(y_test, y_pred))"
      ],
      "execution_count": null,
      "outputs": []
    },
    {
      "cell_type": "code",
      "metadata": {
        "id": "-hOaeVomWkKh"
      },
      "source": [
        "print(classification_report(y_test, y_pred))"
      ],
      "execution_count": null,
      "outputs": []
    },
    {
      "cell_type": "code",
      "metadata": {
        "id": "xhk_Q8b4XivE"
      },
      "source": [
        ""
      ],
      "execution_count": null,
      "outputs": []
    }
  ]
}